{
 "cells": [
  {
   "cell_type": "code",
   "execution_count": 1,
   "id": "1785edf8",
   "metadata": {},
   "outputs": [],
   "source": [
    "## Dependencies\n",
    "import os\n",
    "import pandas as pd"
   ]
  },
  {
   "cell_type": "markdown",
   "id": "bf37d1e2",
   "metadata": {},
   "source": [
    "## Suicide Rates"
   ]
  },
  {
   "cell_type": "code",
   "execution_count": 2,
   "id": "29722f60",
   "metadata": {},
   "outputs": [],
   "source": [
    "## Set input file\n",
    "filename = 'who_alcohol_liters_per_capita.csv'\n",
    "path = os.path.join('input', filename)"
   ]
  },
  {
   "cell_type": "code",
   "execution_count": 12,
   "id": "5d830b85",
   "metadata": {},
   "outputs": [],
   "source": [
    "## Load CSV as DataFrame\n",
    "cols = ['Location','Period','Dim1', 'FactValueNumeric']\n",
    "df = pd.read_csv(path, usecols = cols, low_memory=False)"
   ]
  },
  {
   "cell_type": "code",
   "execution_count": 16,
   "id": "2b838bbe",
   "metadata": {},
   "outputs": [],
   "source": [
    "df = df.sort_values(by=['Location','Period'])"
   ]
  },
  {
   "cell_type": "code",
   "execution_count": 17,
   "id": "10867532",
   "metadata": {},
   "outputs": [
    {
     "data": {
      "text/html": [
       "<div>\n",
       "<style scoped>\n",
       "    .dataframe tbody tr th:only-of-type {\n",
       "        vertical-align: middle;\n",
       "    }\n",
       "\n",
       "    .dataframe tbody tr th {\n",
       "        vertical-align: top;\n",
       "    }\n",
       "\n",
       "    .dataframe thead th {\n",
       "        text-align: right;\n",
       "    }\n",
       "</style>\n",
       "<table border=\"1\" class=\"dataframe\">\n",
       "  <thead>\n",
       "    <tr style=\"text-align: right;\">\n",
       "      <th></th>\n",
       "      <th>Location</th>\n",
       "      <th>Period</th>\n",
       "      <th>Dim1</th>\n",
       "      <th>FactValueNumeric</th>\n",
       "    </tr>\n",
       "  </thead>\n",
       "  <tbody>\n",
       "    <tr>\n",
       "      <th>47167</th>\n",
       "      <td>Afghanistan</td>\n",
       "      <td>1961</td>\n",
       "      <td>Beer</td>\n",
       "      <td>0.00</td>\n",
       "    </tr>\n",
       "    <tr>\n",
       "      <th>47168</th>\n",
       "      <td>Afghanistan</td>\n",
       "      <td>1961</td>\n",
       "      <td>Other alcoholic beverages</td>\n",
       "      <td>0.00</td>\n",
       "    </tr>\n",
       "    <tr>\n",
       "      <th>47169</th>\n",
       "      <td>Afghanistan</td>\n",
       "      <td>1961</td>\n",
       "      <td>Spirits</td>\n",
       "      <td>0.00</td>\n",
       "    </tr>\n",
       "    <tr>\n",
       "      <th>47170</th>\n",
       "      <td>Afghanistan</td>\n",
       "      <td>1961</td>\n",
       "      <td>All types</td>\n",
       "      <td>0.00</td>\n",
       "    </tr>\n",
       "    <tr>\n",
       "      <th>47171</th>\n",
       "      <td>Afghanistan</td>\n",
       "      <td>1961</td>\n",
       "      <td>Wine</td>\n",
       "      <td>0.00</td>\n",
       "    </tr>\n",
       "    <tr>\n",
       "      <th>...</th>\n",
       "      <td>...</td>\n",
       "      <td>...</td>\n",
       "      <td>...</td>\n",
       "      <td>...</td>\n",
       "    </tr>\n",
       "    <tr>\n",
       "      <th>221</th>\n",
       "      <td>Zimbabwe</td>\n",
       "      <td>2019</td>\n",
       "      <td>Wine</td>\n",
       "      <td>0.05</td>\n",
       "    </tr>\n",
       "    <tr>\n",
       "      <th>398</th>\n",
       "      <td>Zimbabwe</td>\n",
       "      <td>2019</td>\n",
       "      <td>Spirits</td>\n",
       "      <td>0.39</td>\n",
       "    </tr>\n",
       "    <tr>\n",
       "      <th>533</th>\n",
       "      <td>Zimbabwe</td>\n",
       "      <td>2019</td>\n",
       "      <td>Beer</td>\n",
       "      <td>1.20</td>\n",
       "    </tr>\n",
       "    <tr>\n",
       "      <th>564</th>\n",
       "      <td>Zimbabwe</td>\n",
       "      <td>2019</td>\n",
       "      <td>Other alcoholic beverages</td>\n",
       "      <td>1.47</td>\n",
       "    </tr>\n",
       "    <tr>\n",
       "      <th>739</th>\n",
       "      <td>Zimbabwe</td>\n",
       "      <td>2019</td>\n",
       "      <td>All types</td>\n",
       "      <td>3.11</td>\n",
       "    </tr>\n",
       "  </tbody>\n",
       "</table>\n",
       "<p>47794 rows × 4 columns</p>\n",
       "</div>"
      ],
      "text/plain": [
       "          Location  Period                       Dim1  FactValueNumeric\n",
       "47167  Afghanistan    1961                       Beer              0.00\n",
       "47168  Afghanistan    1961  Other alcoholic beverages              0.00\n",
       "47169  Afghanistan    1961                    Spirits              0.00\n",
       "47170  Afghanistan    1961                  All types              0.00\n",
       "47171  Afghanistan    1961                       Wine              0.00\n",
       "...            ...     ...                        ...               ...\n",
       "221       Zimbabwe    2019                       Wine              0.05\n",
       "398       Zimbabwe    2019                    Spirits              0.39\n",
       "533       Zimbabwe    2019                       Beer              1.20\n",
       "564       Zimbabwe    2019  Other alcoholic beverages              1.47\n",
       "739       Zimbabwe    2019                  All types              3.11\n",
       "\n",
       "[47794 rows x 4 columns]"
      ]
     },
     "execution_count": 17,
     "metadata": {},
     "output_type": "execute_result"
    }
   ],
   "source": [
    "df"
   ]
  },
  {
   "cell_type": "code",
   "execution_count": 19,
   "id": "b3172325",
   "metadata": {},
   "outputs": [
    {
     "data": {
      "text/html": [
       "<div>\n",
       "<style scoped>\n",
       "    .dataframe tbody tr th:only-of-type {\n",
       "        vertical-align: middle;\n",
       "    }\n",
       "\n",
       "    .dataframe tbody tr th {\n",
       "        vertical-align: top;\n",
       "    }\n",
       "\n",
       "    .dataframe thead th {\n",
       "        text-align: right;\n",
       "    }\n",
       "</style>\n",
       "<table border=\"1\" class=\"dataframe\">\n",
       "  <thead>\n",
       "    <tr style=\"text-align: right;\">\n",
       "      <th></th>\n",
       "      <th>Location</th>\n",
       "      <th>Period</th>\n",
       "      <th>Dim1</th>\n",
       "      <th>FactValueNumeric</th>\n",
       "    </tr>\n",
       "  </thead>\n",
       "  <tbody>\n",
       "    <tr>\n",
       "      <th>26664</th>\n",
       "      <td>Afghanistan</td>\n",
       "      <td>1990</td>\n",
       "      <td>Beer</td>\n",
       "      <td>0.00</td>\n",
       "    </tr>\n",
       "    <tr>\n",
       "      <th>26665</th>\n",
       "      <td>Afghanistan</td>\n",
       "      <td>1990</td>\n",
       "      <td>Other alcoholic beverages</td>\n",
       "      <td>0.00</td>\n",
       "    </tr>\n",
       "    <tr>\n",
       "      <th>26666</th>\n",
       "      <td>Afghanistan</td>\n",
       "      <td>1990</td>\n",
       "      <td>Spirits</td>\n",
       "      <td>0.00</td>\n",
       "    </tr>\n",
       "    <tr>\n",
       "      <th>26667</th>\n",
       "      <td>Afghanistan</td>\n",
       "      <td>1990</td>\n",
       "      <td>All types</td>\n",
       "      <td>0.00</td>\n",
       "    </tr>\n",
       "    <tr>\n",
       "      <th>26668</th>\n",
       "      <td>Afghanistan</td>\n",
       "      <td>1990</td>\n",
       "      <td>Wine</td>\n",
       "      <td>0.00</td>\n",
       "    </tr>\n",
       "    <tr>\n",
       "      <th>...</th>\n",
       "      <td>...</td>\n",
       "      <td>...</td>\n",
       "      <td>...</td>\n",
       "      <td>...</td>\n",
       "    </tr>\n",
       "    <tr>\n",
       "      <th>221</th>\n",
       "      <td>Zimbabwe</td>\n",
       "      <td>2019</td>\n",
       "      <td>Wine</td>\n",
       "      <td>0.05</td>\n",
       "    </tr>\n",
       "    <tr>\n",
       "      <th>398</th>\n",
       "      <td>Zimbabwe</td>\n",
       "      <td>2019</td>\n",
       "      <td>Spirits</td>\n",
       "      <td>0.39</td>\n",
       "    </tr>\n",
       "    <tr>\n",
       "      <th>533</th>\n",
       "      <td>Zimbabwe</td>\n",
       "      <td>2019</td>\n",
       "      <td>Beer</td>\n",
       "      <td>1.20</td>\n",
       "    </tr>\n",
       "    <tr>\n",
       "      <th>564</th>\n",
       "      <td>Zimbabwe</td>\n",
       "      <td>2019</td>\n",
       "      <td>Other alcoholic beverages</td>\n",
       "      <td>1.47</td>\n",
       "    </tr>\n",
       "    <tr>\n",
       "      <th>739</th>\n",
       "      <td>Zimbabwe</td>\n",
       "      <td>2019</td>\n",
       "      <td>All types</td>\n",
       "      <td>3.11</td>\n",
       "    </tr>\n",
       "  </tbody>\n",
       "</table>\n",
       "<p>27529 rows × 4 columns</p>\n",
       "</div>"
      ],
      "text/plain": [
       "          Location  Period                       Dim1  FactValueNumeric\n",
       "26664  Afghanistan    1990                       Beer              0.00\n",
       "26665  Afghanistan    1990  Other alcoholic beverages              0.00\n",
       "26666  Afghanistan    1990                    Spirits              0.00\n",
       "26667  Afghanistan    1990                  All types              0.00\n",
       "26668  Afghanistan    1990                       Wine              0.00\n",
       "...            ...     ...                        ...               ...\n",
       "221       Zimbabwe    2019                       Wine              0.05\n",
       "398       Zimbabwe    2019                    Spirits              0.39\n",
       "533       Zimbabwe    2019                       Beer              1.20\n",
       "564       Zimbabwe    2019  Other alcoholic beverages              1.47\n",
       "739       Zimbabwe    2019                  All types              3.11\n",
       "\n",
       "[27529 rows x 4 columns]"
      ]
     },
     "execution_count": 19,
     "metadata": {},
     "output_type": "execute_result"
    }
   ],
   "source": [
    "df.loc[(df['Period'] >= 1990) & ((df['Period'] <= 2020))]"
   ]
  },
  {
   "cell_type": "code",
   "execution_count": null,
   "id": "3370ebfc",
   "metadata": {},
   "outputs": [],
   "source": []
  },
  {
   "cell_type": "code",
   "execution_count": null,
   "id": "20917c55",
   "metadata": {},
   "outputs": [],
   "source": [
    "countries_list = pd.unique(df['Entity'])\n",
    "len(countries_list)"
   ]
  },
  {
   "cell_type": "code",
   "execution_count": null,
   "id": "de3eaae0",
   "metadata": {},
   "outputs": [],
   "source": [
    "clean_df = df.rename(columns={\n",
    "    'Entity': 'country',\n",
    "    'Code': 'country_code',\n",
    "    'Year': 'year',\n",
    "    'Deaths - Self-harm - Sex: Both - Age: Age-standardized (Rate)': 'suicide_rate'\n",
    "})"
   ]
  },
  {
   "cell_type": "code",
   "execution_count": null,
   "id": "0e8859f9",
   "metadata": {},
   "outputs": [],
   "source": [
    "clean_df.to_csv(\"clean/suicide_rate_1990.csv\", index=True)"
   ]
  },
  {
   "cell_type": "markdown",
   "id": "301a10c9",
   "metadata": {},
   "source": [
    "## Life Expectancy"
   ]
  },
  {
   "cell_type": "code",
   "execution_count": null,
   "id": "99cb7fdf",
   "metadata": {},
   "outputs": [],
   "source": [
    "# Set CSV input file path\n",
    "input_path = os.path.join('input/owid_life-expectancy-at-birth-total-years.csv')\n",
    "# Read CSV to DataFrame\n",
    "df = pd.read_csv(input_path)"
   ]
  },
  {
   "cell_type": "code",
   "execution_count": null,
   "id": "1c824213",
   "metadata": {},
   "outputs": [],
   "source": [
    "df"
   ]
  },
  {
   "cell_type": "code",
   "execution_count": null,
   "id": "1e7d74b8",
   "metadata": {},
   "outputs": [],
   "source": [
    "countries_list = pd.unique(df['Entity'])\n",
    "len(countries_list)"
   ]
  },
  {
   "cell_type": "code",
   "execution_count": null,
   "id": "7dfa9bab",
   "metadata": {},
   "outputs": [],
   "source": [
    "df.loc[(df['Year'] >= 1990) & ((df['Year'] <= 2020))]"
   ]
  },
  {
   "cell_type": "code",
   "execution_count": null,
   "id": "737fcba7",
   "metadata": {},
   "outputs": [],
   "source": [
    "clean_df = df.rename(columns={\n",
    "    'Entity': 'country',\n",
    "    'Code': 'country_code',\n",
    "    'Year': 'year',\n",
    "    'Life expectancy at birth, total (years)': 'life_expectancy'\n",
    "})\n",
    "clean_df"
   ]
  },
  {
   "cell_type": "code",
   "execution_count": null,
   "id": "b83235ff",
   "metadata": {},
   "outputs": [],
   "source": [
    "clean_df.to_csv(\"clean/life_expectancy.csv\", index=True)"
   ]
  },
  {
   "cell_type": "markdown",
   "id": "82055e47",
   "metadata": {},
   "source": [
    "## Mental & Substance Disorders"
   ]
  },
  {
   "cell_type": "code",
   "execution_count": null,
   "id": "84c6ad82",
   "metadata": {},
   "outputs": [],
   "source": [
    "# Set CSV input file path\n",
    "input_path = os.path.join('input/owid_life-expectancy-at-birth-total-years.csv')\n",
    "# Read CSV to DataFrame\n",
    "df = pd.read_csv(input_path)"
   ]
  },
  {
   "cell_type": "code",
   "execution_count": null,
   "id": "6d60700d",
   "metadata": {},
   "outputs": [],
   "source": []
  },
  {
   "cell_type": "code",
   "execution_count": null,
   "id": "ee7f3cd7",
   "metadata": {},
   "outputs": [],
   "source": []
  },
  {
   "cell_type": "code",
   "execution_count": null,
   "id": "0c7ec4c8",
   "metadata": {},
   "outputs": [],
   "source": []
  }
 ],
 "metadata": {
  "kernelspec": {
   "display_name": "Python 3",
   "language": "python",
   "name": "python3"
  },
  "language_info": {
   "codemirror_mode": {
    "name": "ipython",
    "version": 3
   },
   "file_extension": ".py",
   "mimetype": "text/x-python",
   "name": "python",
   "nbconvert_exporter": "python",
   "pygments_lexer": "ipython3",
   "version": "3.8.8"
  }
 },
 "nbformat": 4,
 "nbformat_minor": 5
}
