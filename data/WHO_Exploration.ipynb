{
 "cells": [
  {
   "cell_type": "code",
   "execution_count": 1,
   "id": "1785edf8",
   "metadata": {},
   "outputs": [],
   "source": [
    "## Dependencies\n",
    "import os\n",
    "import pandas as pd"
   ]
  },
  {
   "cell_type": "markdown",
   "id": "bf37d1e2",
   "metadata": {},
   "source": [
    "## Alcohol Consumption"
   ]
  },
  {
   "cell_type": "code",
   "execution_count": 2,
   "id": "29722f60",
   "metadata": {},
   "outputs": [],
   "source": [
    "## Set input file\n",
    "filename = 'who_alcohol_liters_per_capita.csv'\n",
    "path = os.path.join('input', filename)"
   ]
  },
  {
   "cell_type": "code",
   "execution_count": 3,
   "id": "5d830b85",
   "metadata": {},
   "outputs": [],
   "source": [
    "## Load CSV as DataFrame\n",
    "cols = ['Location','Period','Dim1', 'FactValueNumeric']\n",
    "df = pd.read_csv(path, usecols = cols, low_memory=False)"
   ]
  },
  {
   "cell_type": "code",
   "execution_count": 4,
   "id": "2b838bbe",
   "metadata": {},
   "outputs": [],
   "source": [
    "df = df.sort_values(by=['Location','Period'], ignore_index=True)"
   ]
  },
  {
   "cell_type": "code",
   "execution_count": 5,
   "id": "e5487404",
   "metadata": {},
   "outputs": [],
   "source": [
    "df = df.rename(columns={\n",
    "    'Location': 'country',\n",
    "    'Period': 'year',\n",
    "    'Dim1': 'dimension',\n",
    "    'FactValueNumeric': 'alcohol_consumption'\n",
    "})"
   ]
  },
  {
   "cell_type": "code",
   "execution_count": 6,
   "id": "212754b6",
   "metadata": {},
   "outputs": [
    {
     "name": "stdout",
     "output_type": "stream",
     "text": [
      "Countries: 189\n"
     ]
    },
    {
     "data": {
      "text/html": [
       "<div>\n",
       "<style scoped>\n",
       "    .dataframe tbody tr th:only-of-type {\n",
       "        vertical-align: middle;\n",
       "    }\n",
       "\n",
       "    .dataframe tbody tr th {\n",
       "        vertical-align: top;\n",
       "    }\n",
       "\n",
       "    .dataframe thead th {\n",
       "        text-align: right;\n",
       "    }\n",
       "</style>\n",
       "<table border=\"1\" class=\"dataframe\">\n",
       "  <thead>\n",
       "    <tr style=\"text-align: right;\">\n",
       "      <th></th>\n",
       "      <th>country</th>\n",
       "      <th>year</th>\n",
       "      <th>dimension</th>\n",
       "      <th>alcohol_consumption</th>\n",
       "    </tr>\n",
       "  </thead>\n",
       "  <tbody>\n",
       "    <tr>\n",
       "      <th>0</th>\n",
       "      <td>Afghanistan</td>\n",
       "      <td>1961</td>\n",
       "      <td>Beer</td>\n",
       "      <td>0.0</td>\n",
       "    </tr>\n",
       "    <tr>\n",
       "      <th>1</th>\n",
       "      <td>Afghanistan</td>\n",
       "      <td>1961</td>\n",
       "      <td>Other alcoholic beverages</td>\n",
       "      <td>0.0</td>\n",
       "    </tr>\n",
       "    <tr>\n",
       "      <th>2</th>\n",
       "      <td>Afghanistan</td>\n",
       "      <td>1961</td>\n",
       "      <td>Spirits</td>\n",
       "      <td>0.0</td>\n",
       "    </tr>\n",
       "    <tr>\n",
       "      <th>3</th>\n",
       "      <td>Afghanistan</td>\n",
       "      <td>1961</td>\n",
       "      <td>All types</td>\n",
       "      <td>0.0</td>\n",
       "    </tr>\n",
       "    <tr>\n",
       "      <th>4</th>\n",
       "      <td>Afghanistan</td>\n",
       "      <td>1961</td>\n",
       "      <td>Wine</td>\n",
       "      <td>0.0</td>\n",
       "    </tr>\n",
       "  </tbody>\n",
       "</table>\n",
       "</div>"
      ],
      "text/plain": [
       "       country  year                  dimension  alcohol_consumption\n",
       "0  Afghanistan  1961                       Beer                  0.0\n",
       "1  Afghanistan  1961  Other alcoholic beverages                  0.0\n",
       "2  Afghanistan  1961                    Spirits                  0.0\n",
       "3  Afghanistan  1961                  All types                  0.0\n",
       "4  Afghanistan  1961                       Wine                  0.0"
      ]
     },
     "execution_count": 6,
     "metadata": {},
     "output_type": "execute_result"
    }
   ],
   "source": [
    "print('Countries:', df['country'].nunique())\n",
    "df.head()"
   ]
  },
  {
   "cell_type": "code",
   "execution_count": 7,
   "id": "9c064ed6",
   "metadata": {},
   "outputs": [
    {
     "name": "stdout",
     "output_type": "stream",
     "text": [
      "Num years = 31\n",
      "['1990', '1991', '1992', '1993', '1994', '1995', '1996', '1997', '1998', '1999', '2000', '2001', '2002', '2003', '2004', '2005', '2006', '2007', '2008', '2009', '2010', '2011', '2012', '2013', '2014', '2015', '2016', '2017', '2018', '2019', '2020']\n"
     ]
    }
   ],
   "source": [
    "## Set years range\n",
    "start_year = 1990\n",
    "end_year = 2020\n",
    "years_list = [str(i) for i in range(start_year, end_year+1)]\n",
    "print('Num years =', len(years_list))\n",
    "print(years_list)"
   ]
  },
  {
   "cell_type": "code",
   "execution_count": 8,
   "id": "195b6cbf",
   "metadata": {},
   "outputs": [],
   "source": [
    "clean_df = df.loc[(df['year'] >= start_year) & ((df['year'] <= end_year))]\n",
    "clean_df.reset_index(drop=True, inplace=True)"
   ]
  },
  {
   "cell_type": "code",
   "execution_count": 9,
   "id": "6a456f90",
   "metadata": {},
   "outputs": [
    {
     "name": "stderr",
     "output_type": "stream",
     "text": [
      "<ipython-input-9-f3a6218d6c15>:1: SettingWithCopyWarning: \n",
      "A value is trying to be set on a copy of a slice from a DataFrame.\n",
      "Try using .loc[row_indexer,col_indexer] = value instead\n",
      "\n",
      "See the caveats in the documentation: https://pandas.pydata.org/pandas-docs/stable/user_guide/indexing.html#returning-a-view-versus-a-copy\n",
      "  clean_df['country_year'] = clean_df['country'] + \"-\" + clean_df['year'].astype(str)\n"
     ]
    }
   ],
   "source": [
    "clean_df['country_year'] = clean_df['country'] + \"-\" + clean_df['year'].astype(str)"
   ]
  },
  {
   "cell_type": "code",
   "execution_count": 10,
   "id": "309237bf",
   "metadata": {},
   "outputs": [
    {
     "data": {
      "text/html": [
       "<div>\n",
       "<style scoped>\n",
       "    .dataframe tbody tr th:only-of-type {\n",
       "        vertical-align: middle;\n",
       "    }\n",
       "\n",
       "    .dataframe tbody tr th {\n",
       "        vertical-align: top;\n",
       "    }\n",
       "\n",
       "    .dataframe thead th {\n",
       "        text-align: right;\n",
       "    }\n",
       "</style>\n",
       "<table border=\"1\" class=\"dataframe\">\n",
       "  <thead>\n",
       "    <tr style=\"text-align: right;\">\n",
       "      <th></th>\n",
       "      <th>country</th>\n",
       "      <th>year</th>\n",
       "      <th>dimension</th>\n",
       "      <th>alcohol_consumption</th>\n",
       "      <th>country_year</th>\n",
       "    </tr>\n",
       "  </thead>\n",
       "  <tbody>\n",
       "    <tr>\n",
       "      <th>0</th>\n",
       "      <td>Afghanistan</td>\n",
       "      <td>1990</td>\n",
       "      <td>Beer</td>\n",
       "      <td>0.00</td>\n",
       "      <td>Afghanistan-1990</td>\n",
       "    </tr>\n",
       "    <tr>\n",
       "      <th>1</th>\n",
       "      <td>Afghanistan</td>\n",
       "      <td>1990</td>\n",
       "      <td>Other alcoholic beverages</td>\n",
       "      <td>0.00</td>\n",
       "      <td>Afghanistan-1990</td>\n",
       "    </tr>\n",
       "    <tr>\n",
       "      <th>2</th>\n",
       "      <td>Afghanistan</td>\n",
       "      <td>1990</td>\n",
       "      <td>Spirits</td>\n",
       "      <td>0.00</td>\n",
       "      <td>Afghanistan-1990</td>\n",
       "    </tr>\n",
       "    <tr>\n",
       "      <th>3</th>\n",
       "      <td>Afghanistan</td>\n",
       "      <td>1990</td>\n",
       "      <td>All types</td>\n",
       "      <td>0.00</td>\n",
       "      <td>Afghanistan-1990</td>\n",
       "    </tr>\n",
       "    <tr>\n",
       "      <th>4</th>\n",
       "      <td>Afghanistan</td>\n",
       "      <td>1990</td>\n",
       "      <td>Wine</td>\n",
       "      <td>0.00</td>\n",
       "      <td>Afghanistan-1990</td>\n",
       "    </tr>\n",
       "    <tr>\n",
       "      <th>...</th>\n",
       "      <td>...</td>\n",
       "      <td>...</td>\n",
       "      <td>...</td>\n",
       "      <td>...</td>\n",
       "      <td>...</td>\n",
       "    </tr>\n",
       "    <tr>\n",
       "      <th>27524</th>\n",
       "      <td>Zimbabwe</td>\n",
       "      <td>2019</td>\n",
       "      <td>Wine</td>\n",
       "      <td>0.05</td>\n",
       "      <td>Zimbabwe-2019</td>\n",
       "    </tr>\n",
       "    <tr>\n",
       "      <th>27525</th>\n",
       "      <td>Zimbabwe</td>\n",
       "      <td>2019</td>\n",
       "      <td>Spirits</td>\n",
       "      <td>0.39</td>\n",
       "      <td>Zimbabwe-2019</td>\n",
       "    </tr>\n",
       "    <tr>\n",
       "      <th>27526</th>\n",
       "      <td>Zimbabwe</td>\n",
       "      <td>2019</td>\n",
       "      <td>Beer</td>\n",
       "      <td>1.20</td>\n",
       "      <td>Zimbabwe-2019</td>\n",
       "    </tr>\n",
       "    <tr>\n",
       "      <th>27527</th>\n",
       "      <td>Zimbabwe</td>\n",
       "      <td>2019</td>\n",
       "      <td>Other alcoholic beverages</td>\n",
       "      <td>1.47</td>\n",
       "      <td>Zimbabwe-2019</td>\n",
       "    </tr>\n",
       "    <tr>\n",
       "      <th>27528</th>\n",
       "      <td>Zimbabwe</td>\n",
       "      <td>2019</td>\n",
       "      <td>All types</td>\n",
       "      <td>3.11</td>\n",
       "      <td>Zimbabwe-2019</td>\n",
       "    </tr>\n",
       "  </tbody>\n",
       "</table>\n",
       "<p>27529 rows × 5 columns</p>\n",
       "</div>"
      ],
      "text/plain": [
       "           country  year                  dimension  alcohol_consumption  \\\n",
       "0      Afghanistan  1990                       Beer                 0.00   \n",
       "1      Afghanistan  1990  Other alcoholic beverages                 0.00   \n",
       "2      Afghanistan  1990                    Spirits                 0.00   \n",
       "3      Afghanistan  1990                  All types                 0.00   \n",
       "4      Afghanistan  1990                       Wine                 0.00   \n",
       "...            ...   ...                        ...                  ...   \n",
       "27524     Zimbabwe  2019                       Wine                 0.05   \n",
       "27525     Zimbabwe  2019                    Spirits                 0.39   \n",
       "27526     Zimbabwe  2019                       Beer                 1.20   \n",
       "27527     Zimbabwe  2019  Other alcoholic beverages                 1.47   \n",
       "27528     Zimbabwe  2019                  All types                 3.11   \n",
       "\n",
       "           country_year  \n",
       "0      Afghanistan-1990  \n",
       "1      Afghanistan-1990  \n",
       "2      Afghanistan-1990  \n",
       "3      Afghanistan-1990  \n",
       "4      Afghanistan-1990  \n",
       "...                 ...  \n",
       "27524     Zimbabwe-2019  \n",
       "27525     Zimbabwe-2019  \n",
       "27526     Zimbabwe-2019  \n",
       "27527     Zimbabwe-2019  \n",
       "27528     Zimbabwe-2019  \n",
       "\n",
       "[27529 rows x 5 columns]"
      ]
     },
     "execution_count": 10,
     "metadata": {},
     "output_type": "execute_result"
    }
   ],
   "source": [
    "clean_df"
   ]
  },
  {
   "cell_type": "code",
   "execution_count": 11,
   "id": "4424bb69",
   "metadata": {},
   "outputs": [
    {
     "name": "stdout",
     "output_type": "stream",
     "text": [
      "Countries: 189\n"
     ]
    },
    {
     "data": {
      "text/html": [
       "<div>\n",
       "<style scoped>\n",
       "    .dataframe tbody tr th:only-of-type {\n",
       "        vertical-align: middle;\n",
       "    }\n",
       "\n",
       "    .dataframe tbody tr th {\n",
       "        vertical-align: top;\n",
       "    }\n",
       "\n",
       "    .dataframe thead th {\n",
       "        text-align: right;\n",
       "    }\n",
       "</style>\n",
       "<table border=\"1\" class=\"dataframe\">\n",
       "  <thead>\n",
       "    <tr style=\"text-align: right;\">\n",
       "      <th></th>\n",
       "      <th>country</th>\n",
       "      <th>year</th>\n",
       "      <th>dimension</th>\n",
       "      <th>alcohol_consumption</th>\n",
       "      <th>country_year</th>\n",
       "    </tr>\n",
       "  </thead>\n",
       "  <tbody>\n",
       "    <tr>\n",
       "      <th>3</th>\n",
       "      <td>Afghanistan</td>\n",
       "      <td>1990</td>\n",
       "      <td>All types</td>\n",
       "      <td>0.0</td>\n",
       "      <td>Afghanistan-1990</td>\n",
       "    </tr>\n",
       "    <tr>\n",
       "      <th>8</th>\n",
       "      <td>Afghanistan</td>\n",
       "      <td>1991</td>\n",
       "      <td>All types</td>\n",
       "      <td>0.0</td>\n",
       "      <td>Afghanistan-1991</td>\n",
       "    </tr>\n",
       "    <tr>\n",
       "      <th>13</th>\n",
       "      <td>Afghanistan</td>\n",
       "      <td>1992</td>\n",
       "      <td>All types</td>\n",
       "      <td>0.0</td>\n",
       "      <td>Afghanistan-1992</td>\n",
       "    </tr>\n",
       "    <tr>\n",
       "      <th>18</th>\n",
       "      <td>Afghanistan</td>\n",
       "      <td>1993</td>\n",
       "      <td>All types</td>\n",
       "      <td>0.0</td>\n",
       "      <td>Afghanistan-1993</td>\n",
       "    </tr>\n",
       "    <tr>\n",
       "      <th>23</th>\n",
       "      <td>Afghanistan</td>\n",
       "      <td>1994</td>\n",
       "      <td>All types</td>\n",
       "      <td>0.0</td>\n",
       "      <td>Afghanistan-1994</td>\n",
       "    </tr>\n",
       "  </tbody>\n",
       "</table>\n",
       "</div>"
      ],
      "text/plain": [
       "        country  year  dimension  alcohol_consumption      country_year\n",
       "3   Afghanistan  1990  All types                  0.0  Afghanistan-1990\n",
       "8   Afghanistan  1991  All types                  0.0  Afghanistan-1991\n",
       "13  Afghanistan  1992  All types                  0.0  Afghanistan-1992\n",
       "18  Afghanistan  1993  All types                  0.0  Afghanistan-1993\n",
       "23  Afghanistan  1994  All types                  0.0  Afghanistan-1994"
      ]
     },
     "execution_count": 11,
     "metadata": {},
     "output_type": "execute_result"
    }
   ],
   "source": [
    "extract_df = clean_df.loc[df['dimension'] == \"All types\"]\n",
    "\n",
    "print ('Countries:', clean_df['country'].nunique())\n",
    "extract_df.head()"
   ]
  },
  {
   "cell_type": "code",
   "execution_count": 12,
   "id": "0e8859f9",
   "metadata": {},
   "outputs": [],
   "source": [
    "extract_df.to_csv(\"clean/extract_alcohol.csv\", index=False)"
   ]
  },
  {
   "cell_type": "code",
   "execution_count": 13,
   "id": "717cb2e1",
   "metadata": {},
   "outputs": [
    {
     "ename": "SyntaxError",
     "evalue": "invalid syntax (<ipython-input-13-ec5ea11b0b21>, line 1)",
     "output_type": "error",
     "traceback": [
      "\u001b[1;36m  File \u001b[1;32m\"<ipython-input-13-ec5ea11b0b21>\"\u001b[1;36m, line \u001b[1;32m1\u001b[0m\n\u001b[1;33m    Stop code Here!\u001b[0m\n\u001b[1;37m         ^\u001b[0m\n\u001b[1;31mSyntaxError\u001b[0m\u001b[1;31m:\u001b[0m invalid syntax\n"
     ]
    }
   ],
   "source": [
    "Stop code Here!"
   ]
  },
  {
   "cell_type": "code",
   "execution_count": null,
   "id": "12576a8a",
   "metadata": {},
   "outputs": [],
   "source": []
  },
  {
   "cell_type": "code",
   "execution_count": null,
   "id": "e05e9d4c",
   "metadata": {},
   "outputs": [],
   "source": []
  },
  {
   "cell_type": "code",
   "execution_count": null,
   "id": "3370ebfc",
   "metadata": {},
   "outputs": [],
   "source": []
  },
  {
   "cell_type": "markdown",
   "id": "301a10c9",
   "metadata": {},
   "source": [
    "## Violence (homicide rate)"
   ]
  },
  {
   "cell_type": "code",
   "execution_count": null,
   "id": "6d60700d",
   "metadata": {},
   "outputs": [],
   "source": [
    "## Set input file\n",
    "filename = 'who_alcohol_liters_per_capita.csv'\n",
    "path = os.path.join('input', filename)"
   ]
  },
  {
   "cell_type": "code",
   "execution_count": null,
   "id": "b59cfcc5",
   "metadata": {},
   "outputs": [],
   "source": [
    "## Load CSV as DataFrame\n",
    "cols = ['Location','Period','Dim1', 'FactValueNumeric']\n",
    "df = pd.read_csv(path, usecols = cols, low_memory=False)"
   ]
  },
  {
   "cell_type": "code",
   "execution_count": null,
   "id": "68ab4803",
   "metadata": {},
   "outputs": [],
   "source": [
    "df = df.sort_values(by=['Location','Period'], ignore_index=True)"
   ]
  },
  {
   "cell_type": "code",
   "execution_count": null,
   "id": "c6fba46f",
   "metadata": {},
   "outputs": [],
   "source": []
  },
  {
   "cell_type": "code",
   "execution_count": null,
   "id": "45c3d326",
   "metadata": {},
   "outputs": [],
   "source": []
  },
  {
   "cell_type": "code",
   "execution_count": null,
   "id": "9f822e91",
   "metadata": {},
   "outputs": [],
   "source": []
  },
  {
   "cell_type": "code",
   "execution_count": null,
   "id": "eb8c6a14",
   "metadata": {},
   "outputs": [],
   "source": []
  },
  {
   "cell_type": "code",
   "execution_count": null,
   "id": "cfd8c51b",
   "metadata": {},
   "outputs": [],
   "source": []
  },
  {
   "cell_type": "code",
   "execution_count": null,
   "id": "f2bd086e",
   "metadata": {},
   "outputs": [],
   "source": []
  },
  {
   "cell_type": "code",
   "execution_count": null,
   "id": "86a7f10a",
   "metadata": {},
   "outputs": [],
   "source": []
  },
  {
   "cell_type": "code",
   "execution_count": null,
   "id": "ee7f3cd7",
   "metadata": {},
   "outputs": [],
   "source": []
  },
  {
   "cell_type": "code",
   "execution_count": null,
   "id": "0c7ec4c8",
   "metadata": {},
   "outputs": [],
   "source": []
  }
 ],
 "metadata": {
  "kernelspec": {
   "display_name": "Python 3",
   "language": "python",
   "name": "python3"
  },
  "language_info": {
   "codemirror_mode": {
    "name": "ipython",
    "version": 3
   },
   "file_extension": ".py",
   "mimetype": "text/x-python",
   "name": "python",
   "nbconvert_exporter": "python",
   "pygments_lexer": "ipython3",
   "version": "3.8.8"
  }
 },
 "nbformat": 4,
 "nbformat_minor": 5
}
