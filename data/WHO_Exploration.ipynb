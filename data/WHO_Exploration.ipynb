{
 "cells": [
  {
   "cell_type": "code",
   "execution_count": 1,
   "id": "1785edf8",
   "metadata": {},
   "outputs": [],
   "source": [
    "## Dependencies\n",
    "import os\n",
    "import pandas as pd"
   ]
  },
  {
   "cell_type": "markdown",
   "id": "5a556a9d",
   "metadata": {},
   "source": [
    "## Country List"
   ]
  },
  {
   "cell_type": "code",
   "execution_count": 2,
   "id": "9a2bcbb6",
   "metadata": {},
   "outputs": [],
   "source": [
    "## Set input file\n",
    "filename = 'extract_countries_all.csv'\n",
    "path = os.path.join('clean', filename)"
   ]
  },
  {
   "cell_type": "code",
   "execution_count": 3,
   "id": "ba2f0d1b",
   "metadata": {},
   "outputs": [
    {
     "data": {
      "text/html": [
       "<div>\n",
       "<style scoped>\n",
       "    .dataframe tbody tr th:only-of-type {\n",
       "        vertical-align: middle;\n",
       "    }\n",
       "\n",
       "    .dataframe tbody tr th {\n",
       "        vertical-align: top;\n",
       "    }\n",
       "\n",
       "    .dataframe thead th {\n",
       "        text-align: right;\n",
       "    }\n",
       "</style>\n",
       "<table border=\"1\" class=\"dataframe\">\n",
       "  <thead>\n",
       "    <tr style=\"text-align: right;\">\n",
       "      <th></th>\n",
       "      <th>world_bank</th>\n",
       "      <th>who</th>\n",
       "      <th>owid</th>\n",
       "      <th>onu</th>\n",
       "      <th>iso_country</th>\n",
       "    </tr>\n",
       "  </thead>\n",
       "  <tbody>\n",
       "    <tr>\n",
       "      <th>0</th>\n",
       "      <td>Afghanistan</td>\n",
       "      <td>Afghanistan</td>\n",
       "      <td>Afghanistan</td>\n",
       "      <td>Afghanistan</td>\n",
       "      <td>AFG</td>\n",
       "    </tr>\n",
       "    <tr>\n",
       "      <th>1</th>\n",
       "      <td>Africa Eastern and Southern</td>\n",
       "      <td>NaN</td>\n",
       "      <td>NaN</td>\n",
       "      <td>NaN</td>\n",
       "      <td>NaN</td>\n",
       "    </tr>\n",
       "    <tr>\n",
       "      <th>2</th>\n",
       "      <td>Africa Western and Central</td>\n",
       "      <td>NaN</td>\n",
       "      <td>NaN</td>\n",
       "      <td>NaN</td>\n",
       "      <td>NaN</td>\n",
       "    </tr>\n",
       "    <tr>\n",
       "      <th>3</th>\n",
       "      <td>NaN</td>\n",
       "      <td>NaN</td>\n",
       "      <td>NaN</td>\n",
       "      <td>land Islands</td>\n",
       "      <td>ALA</td>\n",
       "    </tr>\n",
       "    <tr>\n",
       "      <th>4</th>\n",
       "      <td>Albania</td>\n",
       "      <td>Albania</td>\n",
       "      <td>Albania</td>\n",
       "      <td>Albania</td>\n",
       "      <td>ALB</td>\n",
       "    </tr>\n",
       "  </tbody>\n",
       "</table>\n",
       "</div>"
      ],
      "text/plain": [
       "                    world_bank          who         owid            onu  \\\n",
       "0                  Afghanistan  Afghanistan  Afghanistan    Afghanistan   \n",
       "1  Africa Eastern and Southern          NaN          NaN            NaN   \n",
       "2   Africa Western and Central          NaN          NaN            NaN   \n",
       "3                          NaN          NaN          NaN  land Islands   \n",
       "4                      Albania      Albania      Albania        Albania   \n",
       "\n",
       "  iso_country  \n",
       "0         AFG  \n",
       "1         NaN  \n",
       "2         NaN  \n",
       "3         ALA  \n",
       "4         ALB  "
      ]
     },
     "execution_count": 3,
     "metadata": {},
     "output_type": "execute_result"
    }
   ],
   "source": [
    "## Load CSV as DataFrame\n",
    "countries_list = pd.read_csv(path, low_memory=False)\n",
    "countries_list.head()"
   ]
  },
  {
   "cell_type": "code",
   "execution_count": null,
   "id": "dc21ba17",
   "metadata": {},
   "outputs": [],
   "source": []
  },
  {
   "cell_type": "markdown",
   "id": "bf37d1e2",
   "metadata": {},
   "source": [
    "## Alcohol Consumption"
   ]
  },
  {
   "cell_type": "code",
   "execution_count": 4,
   "id": "29722f60",
   "metadata": {},
   "outputs": [],
   "source": [
    "## Set input file\n",
    "filename = 'who_alcohol_liters_per_capita.csv'\n",
    "path = os.path.join('input', filename)"
   ]
  },
  {
   "cell_type": "code",
   "execution_count": 5,
   "id": "5d830b85",
   "metadata": {},
   "outputs": [],
   "source": [
    "## Load CSV as DataFrame\n",
    "cols = ['Location','Period','Dim1', 'FactValueNumeric']\n",
    "df = pd.read_csv(path, usecols = cols, low_memory=False)"
   ]
  },
  {
   "cell_type": "code",
   "execution_count": 6,
   "id": "2b838bbe",
   "metadata": {},
   "outputs": [],
   "source": [
    "df = df.sort_values(by=['Location','Period'], ignore_index=True)"
   ]
  },
  {
   "cell_type": "code",
   "execution_count": 7,
   "id": "e5487404",
   "metadata": {},
   "outputs": [],
   "source": [
    "df = df.rename(columns={\n",
    "    'Location': 'country',\n",
    "    'Period': 'year',\n",
    "    'Dim1': 'dimension',\n",
    "    'FactValueNumeric': 'alcohol_consumption'\n",
    "})"
   ]
  },
  {
   "cell_type": "code",
   "execution_count": 8,
   "id": "212754b6",
   "metadata": {},
   "outputs": [
    {
     "name": "stdout",
     "output_type": "stream",
     "text": [
      "Countries: 189\n"
     ]
    },
    {
     "data": {
      "text/html": [
       "<div>\n",
       "<style scoped>\n",
       "    .dataframe tbody tr th:only-of-type {\n",
       "        vertical-align: middle;\n",
       "    }\n",
       "\n",
       "    .dataframe tbody tr th {\n",
       "        vertical-align: top;\n",
       "    }\n",
       "\n",
       "    .dataframe thead th {\n",
       "        text-align: right;\n",
       "    }\n",
       "</style>\n",
       "<table border=\"1\" class=\"dataframe\">\n",
       "  <thead>\n",
       "    <tr style=\"text-align: right;\">\n",
       "      <th></th>\n",
       "      <th>country</th>\n",
       "      <th>year</th>\n",
       "      <th>dimension</th>\n",
       "      <th>alcohol_consumption</th>\n",
       "    </tr>\n",
       "  </thead>\n",
       "  <tbody>\n",
       "    <tr>\n",
       "      <th>0</th>\n",
       "      <td>Afghanistan</td>\n",
       "      <td>1961</td>\n",
       "      <td>Beer</td>\n",
       "      <td>0.0</td>\n",
       "    </tr>\n",
       "    <tr>\n",
       "      <th>1</th>\n",
       "      <td>Afghanistan</td>\n",
       "      <td>1961</td>\n",
       "      <td>Other alcoholic beverages</td>\n",
       "      <td>0.0</td>\n",
       "    </tr>\n",
       "    <tr>\n",
       "      <th>2</th>\n",
       "      <td>Afghanistan</td>\n",
       "      <td>1961</td>\n",
       "      <td>Spirits</td>\n",
       "      <td>0.0</td>\n",
       "    </tr>\n",
       "    <tr>\n",
       "      <th>3</th>\n",
       "      <td>Afghanistan</td>\n",
       "      <td>1961</td>\n",
       "      <td>All types</td>\n",
       "      <td>0.0</td>\n",
       "    </tr>\n",
       "    <tr>\n",
       "      <th>4</th>\n",
       "      <td>Afghanistan</td>\n",
       "      <td>1961</td>\n",
       "      <td>Wine</td>\n",
       "      <td>0.0</td>\n",
       "    </tr>\n",
       "  </tbody>\n",
       "</table>\n",
       "</div>"
      ],
      "text/plain": [
       "       country  year                  dimension  alcohol_consumption\n",
       "0  Afghanistan  1961                       Beer                  0.0\n",
       "1  Afghanistan  1961  Other alcoholic beverages                  0.0\n",
       "2  Afghanistan  1961                    Spirits                  0.0\n",
       "3  Afghanistan  1961                  All types                  0.0\n",
       "4  Afghanistan  1961                       Wine                  0.0"
      ]
     },
     "execution_count": 8,
     "metadata": {},
     "output_type": "execute_result"
    }
   ],
   "source": [
    "print('Countries:', df['country'].nunique())\n",
    "df.head()"
   ]
  },
  {
   "cell_type": "code",
   "execution_count": null,
   "id": "19bc6f50",
   "metadata": {},
   "outputs": [],
   "source": [
    "df.replace('Russian Federation', 'Russia', inplace=True)"
   ]
  },
  {
   "cell_type": "code",
   "execution_count": 9,
   "id": "56ad6d02",
   "metadata": {},
   "outputs": [],
   "source": [
    "# country = 'Russia'\n",
    "# countries_list.loc[countries_list['owid'] == country]['onu'].values[0]"
   ]
  },
  {
   "cell_type": "code",
   "execution_count": 10,
   "id": "30822670",
   "metadata": {},
   "outputs": [],
   "source": [
    "# country_un = []\n",
    "\n",
    "# for country in df['country']:\n",
    "#     print (country)\n",
    "#     country_un.append(countries_list.loc[countries_list['who'] == country]['onu'].values[0])\n",
    "\n",
    "# df['country_un'] = country_un"
   ]
  },
  {
   "cell_type": "code",
   "execution_count": 11,
   "id": "9c064ed6",
   "metadata": {},
   "outputs": [
    {
     "name": "stdout",
     "output_type": "stream",
     "text": [
      "Num years = 31\n",
      "['1990', '1991', '1992', '1993', '1994', '1995', '1996', '1997', '1998', '1999', '2000', '2001', '2002', '2003', '2004', '2005', '2006', '2007', '2008', '2009', '2010', '2011', '2012', '2013', '2014', '2015', '2016', '2017', '2018', '2019', '2020']\n"
     ]
    }
   ],
   "source": [
    "## Set years range\n",
    "start_year = 1990\n",
    "end_year = 2020\n",
    "years_list = [str(i) for i in range(start_year, end_year+1)]\n",
    "print('Num years =', len(years_list))\n",
    "print(years_list)"
   ]
  },
  {
   "cell_type": "code",
   "execution_count": 12,
   "id": "195b6cbf",
   "metadata": {},
   "outputs": [],
   "source": [
    "clean_df = df.loc[(df['year'] >= start_year) & ((df['year'] <= end_year))]\n",
    "clean_df.reset_index(drop=True, inplace=True)"
   ]
  },
  {
   "cell_type": "code",
   "execution_count": 13,
   "id": "6a456f90",
   "metadata": {},
   "outputs": [
    {
     "name": "stderr",
     "output_type": "stream",
     "text": [
      "<ipython-input-13-107848520c56>:1: SettingWithCopyWarning: \n",
      "A value is trying to be set on a copy of a slice from a DataFrame.\n",
      "Try using .loc[row_indexer,col_indexer] = value instead\n",
      "\n",
      "See the caveats in the documentation: https://pandas.pydata.org/pandas-docs/stable/user_guide/indexing.html#returning-a-view-versus-a-copy\n",
      "  clean_df['country_code'] = clean_df['country'] + \"-\" + clean_df['year'].astype(str)\n"
     ]
    }
   ],
   "source": [
    "clean_df['country_year'] = clean_df['country'] + \"-\" + clean_df['year'].astype(str)"
   ]
  },
  {
   "cell_type": "code",
   "execution_count": 14,
   "id": "309237bf",
   "metadata": {},
   "outputs": [
    {
     "data": {
      "text/html": [
       "<div>\n",
       "<style scoped>\n",
       "    .dataframe tbody tr th:only-of-type {\n",
       "        vertical-align: middle;\n",
       "    }\n",
       "\n",
       "    .dataframe tbody tr th {\n",
       "        vertical-align: top;\n",
       "    }\n",
       "\n",
       "    .dataframe thead th {\n",
       "        text-align: right;\n",
       "    }\n",
       "</style>\n",
       "<table border=\"1\" class=\"dataframe\">\n",
       "  <thead>\n",
       "    <tr style=\"text-align: right;\">\n",
       "      <th></th>\n",
       "      <th>country</th>\n",
       "      <th>year</th>\n",
       "      <th>dimension</th>\n",
       "      <th>alcohol_consumption</th>\n",
       "      <th>country_code</th>\n",
       "    </tr>\n",
       "  </thead>\n",
       "  <tbody>\n",
       "    <tr>\n",
       "      <th>0</th>\n",
       "      <td>Afghanistan</td>\n",
       "      <td>1990</td>\n",
       "      <td>Beer</td>\n",
       "      <td>0.00</td>\n",
       "      <td>Afghanistan-1990</td>\n",
       "    </tr>\n",
       "    <tr>\n",
       "      <th>1</th>\n",
       "      <td>Afghanistan</td>\n",
       "      <td>1990</td>\n",
       "      <td>Other alcoholic beverages</td>\n",
       "      <td>0.00</td>\n",
       "      <td>Afghanistan-1990</td>\n",
       "    </tr>\n",
       "    <tr>\n",
       "      <th>2</th>\n",
       "      <td>Afghanistan</td>\n",
       "      <td>1990</td>\n",
       "      <td>Spirits</td>\n",
       "      <td>0.00</td>\n",
       "      <td>Afghanistan-1990</td>\n",
       "    </tr>\n",
       "    <tr>\n",
       "      <th>3</th>\n",
       "      <td>Afghanistan</td>\n",
       "      <td>1990</td>\n",
       "      <td>All types</td>\n",
       "      <td>0.00</td>\n",
       "      <td>Afghanistan-1990</td>\n",
       "    </tr>\n",
       "    <tr>\n",
       "      <th>4</th>\n",
       "      <td>Afghanistan</td>\n",
       "      <td>1990</td>\n",
       "      <td>Wine</td>\n",
       "      <td>0.00</td>\n",
       "      <td>Afghanistan-1990</td>\n",
       "    </tr>\n",
       "    <tr>\n",
       "      <th>...</th>\n",
       "      <td>...</td>\n",
       "      <td>...</td>\n",
       "      <td>...</td>\n",
       "      <td>...</td>\n",
       "      <td>...</td>\n",
       "    </tr>\n",
       "    <tr>\n",
       "      <th>27524</th>\n",
       "      <td>Zimbabwe</td>\n",
       "      <td>2019</td>\n",
       "      <td>Wine</td>\n",
       "      <td>0.05</td>\n",
       "      <td>Zimbabwe-2019</td>\n",
       "    </tr>\n",
       "    <tr>\n",
       "      <th>27525</th>\n",
       "      <td>Zimbabwe</td>\n",
       "      <td>2019</td>\n",
       "      <td>Spirits</td>\n",
       "      <td>0.39</td>\n",
       "      <td>Zimbabwe-2019</td>\n",
       "    </tr>\n",
       "    <tr>\n",
       "      <th>27526</th>\n",
       "      <td>Zimbabwe</td>\n",
       "      <td>2019</td>\n",
       "      <td>Beer</td>\n",
       "      <td>1.20</td>\n",
       "      <td>Zimbabwe-2019</td>\n",
       "    </tr>\n",
       "    <tr>\n",
       "      <th>27527</th>\n",
       "      <td>Zimbabwe</td>\n",
       "      <td>2019</td>\n",
       "      <td>Other alcoholic beverages</td>\n",
       "      <td>1.47</td>\n",
       "      <td>Zimbabwe-2019</td>\n",
       "    </tr>\n",
       "    <tr>\n",
       "      <th>27528</th>\n",
       "      <td>Zimbabwe</td>\n",
       "      <td>2019</td>\n",
       "      <td>All types</td>\n",
       "      <td>3.11</td>\n",
       "      <td>Zimbabwe-2019</td>\n",
       "    </tr>\n",
       "  </tbody>\n",
       "</table>\n",
       "<p>27529 rows × 5 columns</p>\n",
       "</div>"
      ],
      "text/plain": [
       "           country  year                  dimension  alcohol_consumption  \\\n",
       "0      Afghanistan  1990                       Beer                 0.00   \n",
       "1      Afghanistan  1990  Other alcoholic beverages                 0.00   \n",
       "2      Afghanistan  1990                    Spirits                 0.00   \n",
       "3      Afghanistan  1990                  All types                 0.00   \n",
       "4      Afghanistan  1990                       Wine                 0.00   \n",
       "...            ...   ...                        ...                  ...   \n",
       "27524     Zimbabwe  2019                       Wine                 0.05   \n",
       "27525     Zimbabwe  2019                    Spirits                 0.39   \n",
       "27526     Zimbabwe  2019                       Beer                 1.20   \n",
       "27527     Zimbabwe  2019  Other alcoholic beverages                 1.47   \n",
       "27528     Zimbabwe  2019                  All types                 3.11   \n",
       "\n",
       "           country_code  \n",
       "0      Afghanistan-1990  \n",
       "1      Afghanistan-1990  \n",
       "2      Afghanistan-1990  \n",
       "3      Afghanistan-1990  \n",
       "4      Afghanistan-1990  \n",
       "...                 ...  \n",
       "27524     Zimbabwe-2019  \n",
       "27525     Zimbabwe-2019  \n",
       "27526     Zimbabwe-2019  \n",
       "27527     Zimbabwe-2019  \n",
       "27528     Zimbabwe-2019  \n",
       "\n",
       "[27529 rows x 5 columns]"
      ]
     },
     "execution_count": 14,
     "metadata": {},
     "output_type": "execute_result"
    }
   ],
   "source": [
    "clean_df"
   ]
  },
  {
   "cell_type": "code",
   "execution_count": 15,
   "id": "4424bb69",
   "metadata": {},
   "outputs": [
    {
     "name": "stdout",
     "output_type": "stream",
     "text": [
      "Countries: 189\n"
     ]
    },
    {
     "name": "stderr",
     "output_type": "stream",
     "text": [
      "C:\\Users\\rpmcl\\anaconda3\\lib\\site-packages\\pandas\\core\\frame.py:4308: SettingWithCopyWarning: \n",
      "A value is trying to be set on a copy of a slice from a DataFrame\n",
      "\n",
      "See the caveats in the documentation: https://pandas.pydata.org/pandas-docs/stable/user_guide/indexing.html#returning-a-view-versus-a-copy\n",
      "  return super().drop(\n"
     ]
    },
    {
     "data": {
      "text/html": [
       "<div>\n",
       "<style scoped>\n",
       "    .dataframe tbody tr th:only-of-type {\n",
       "        vertical-align: middle;\n",
       "    }\n",
       "\n",
       "    .dataframe tbody tr th {\n",
       "        vertical-align: top;\n",
       "    }\n",
       "\n",
       "    .dataframe thead th {\n",
       "        text-align: right;\n",
       "    }\n",
       "</style>\n",
       "<table border=\"1\" class=\"dataframe\">\n",
       "  <thead>\n",
       "    <tr style=\"text-align: right;\">\n",
       "      <th></th>\n",
       "      <th>country</th>\n",
       "      <th>year</th>\n",
       "      <th>alcohol_consumption</th>\n",
       "      <th>country_code</th>\n",
       "    </tr>\n",
       "  </thead>\n",
       "  <tbody>\n",
       "    <tr>\n",
       "      <th>3</th>\n",
       "      <td>Afghanistan</td>\n",
       "      <td>1990</td>\n",
       "      <td>0.0</td>\n",
       "      <td>Afghanistan-1990</td>\n",
       "    </tr>\n",
       "    <tr>\n",
       "      <th>8</th>\n",
       "      <td>Afghanistan</td>\n",
       "      <td>1991</td>\n",
       "      <td>0.0</td>\n",
       "      <td>Afghanistan-1991</td>\n",
       "    </tr>\n",
       "    <tr>\n",
       "      <th>13</th>\n",
       "      <td>Afghanistan</td>\n",
       "      <td>1992</td>\n",
       "      <td>0.0</td>\n",
       "      <td>Afghanistan-1992</td>\n",
       "    </tr>\n",
       "    <tr>\n",
       "      <th>18</th>\n",
       "      <td>Afghanistan</td>\n",
       "      <td>1993</td>\n",
       "      <td>0.0</td>\n",
       "      <td>Afghanistan-1993</td>\n",
       "    </tr>\n",
       "    <tr>\n",
       "      <th>23</th>\n",
       "      <td>Afghanistan</td>\n",
       "      <td>1994</td>\n",
       "      <td>0.0</td>\n",
       "      <td>Afghanistan-1994</td>\n",
       "    </tr>\n",
       "  </tbody>\n",
       "</table>\n",
       "</div>"
      ],
      "text/plain": [
       "        country  year  alcohol_consumption      country_code\n",
       "3   Afghanistan  1990                  0.0  Afghanistan-1990\n",
       "8   Afghanistan  1991                  0.0  Afghanistan-1991\n",
       "13  Afghanistan  1992                  0.0  Afghanistan-1992\n",
       "18  Afghanistan  1993                  0.0  Afghanistan-1993\n",
       "23  Afghanistan  1994                  0.0  Afghanistan-1994"
      ]
     },
     "execution_count": 15,
     "metadata": {},
     "output_type": "execute_result"
    }
   ],
   "source": [
    "extract_df = clean_df.loc[df['dimension'] == \"All types\"]\n",
    "extract_df.drop(['dimension'], axis=1, inplace=True)\n",
    "\n",
    "print ('Countries:', clean_df['country'].nunique())\n",
    "extract_df.head()"
   ]
  },
  {
   "cell_type": "code",
   "execution_count": null,
   "id": "d9860ed0",
   "metadata": {},
   "outputs": [],
   "source": []
  },
  {
   "cell_type": "markdown",
   "id": "301a10c9",
   "metadata": {},
   "source": [
    "## Violence (homicide rate)"
   ]
  },
  {
   "cell_type": "code",
   "execution_count": 16,
   "id": "6d60700d",
   "metadata": {},
   "outputs": [],
   "source": [
    "## Set input file\n",
    "filename = 'who_violence_homicide_rate_100k.csv'\n",
    "path = os.path.join('input', filename)"
   ]
  },
  {
   "cell_type": "code",
   "execution_count": 17,
   "id": "df1f7a59",
   "metadata": {},
   "outputs": [],
   "source": [
    "## Load CSV as DataFrame\n",
    "cols = ['Location','Period','Dim1', 'FactValueNumeric']\n",
    "df = pd.read_csv(path, usecols = cols, low_memory=False)"
   ]
  },
  {
   "cell_type": "code",
   "execution_count": 18,
   "id": "041228cc",
   "metadata": {},
   "outputs": [],
   "source": [
    "df = df.sort_values(by=['Location','Period'], ignore_index=True)"
   ]
  },
  {
   "cell_type": "code",
   "execution_count": 19,
   "id": "218e9a66",
   "metadata": {},
   "outputs": [],
   "source": [
    "df = df.rename(columns={\n",
    "    'Location': 'country',\n",
    "    'Period': 'year',\n",
    "    'Dim1': 'dimension',\n",
    "    'FactValueNumeric': 'homicide_rate'\n",
    "})"
   ]
  },
  {
   "cell_type": "code",
   "execution_count": 20,
   "id": "fd90c032",
   "metadata": {},
   "outputs": [
    {
     "name": "stdout",
     "output_type": "stream",
     "text": [
      "Countries: 183\n"
     ]
    },
    {
     "data": {
      "text/html": [
       "<div>\n",
       "<style scoped>\n",
       "    .dataframe tbody tr th:only-of-type {\n",
       "        vertical-align: middle;\n",
       "    }\n",
       "\n",
       "    .dataframe tbody tr th {\n",
       "        vertical-align: top;\n",
       "    }\n",
       "\n",
       "    .dataframe thead th {\n",
       "        text-align: right;\n",
       "    }\n",
       "</style>\n",
       "<table border=\"1\" class=\"dataframe\">\n",
       "  <thead>\n",
       "    <tr style=\"text-align: right;\">\n",
       "      <th></th>\n",
       "      <th>country</th>\n",
       "      <th>year</th>\n",
       "      <th>dimension</th>\n",
       "      <th>homicide_rate</th>\n",
       "    </tr>\n",
       "  </thead>\n",
       "  <tbody>\n",
       "    <tr>\n",
       "      <th>0</th>\n",
       "      <td>Afghanistan</td>\n",
       "      <td>2000</td>\n",
       "      <td>Male</td>\n",
       "      <td>16.71</td>\n",
       "    </tr>\n",
       "    <tr>\n",
       "      <th>1</th>\n",
       "      <td>Afghanistan</td>\n",
       "      <td>2000</td>\n",
       "      <td>Female</td>\n",
       "      <td>2.43</td>\n",
       "    </tr>\n",
       "    <tr>\n",
       "      <th>2</th>\n",
       "      <td>Afghanistan</td>\n",
       "      <td>2000</td>\n",
       "      <td>Both sexes</td>\n",
       "      <td>9.78</td>\n",
       "    </tr>\n",
       "    <tr>\n",
       "      <th>3</th>\n",
       "      <td>Afghanistan</td>\n",
       "      <td>2001</td>\n",
       "      <td>Male</td>\n",
       "      <td>16.44</td>\n",
       "    </tr>\n",
       "    <tr>\n",
       "      <th>4</th>\n",
       "      <td>Afghanistan</td>\n",
       "      <td>2001</td>\n",
       "      <td>Female</td>\n",
       "      <td>2.43</td>\n",
       "    </tr>\n",
       "  </tbody>\n",
       "</table>\n",
       "</div>"
      ],
      "text/plain": [
       "       country  year   dimension  homicide_rate\n",
       "0  Afghanistan  2000        Male          16.71\n",
       "1  Afghanistan  2000      Female           2.43\n",
       "2  Afghanistan  2000  Both sexes           9.78\n",
       "3  Afghanistan  2001        Male          16.44\n",
       "4  Afghanistan  2001      Female           2.43"
      ]
     },
     "execution_count": 20,
     "metadata": {},
     "output_type": "execute_result"
    }
   ],
   "source": [
    "print('Countries:', df['country'].nunique())\n",
    "df.head()"
   ]
  },
  {
   "cell_type": "code",
   "execution_count": null,
   "id": "355c8e95",
   "metadata": {},
   "outputs": [],
   "source": [
    "df.replace('Russian Federation', 'Russia', inplace=True)"
   ]
  },
  {
   "cell_type": "code",
   "execution_count": 21,
   "id": "33e837cb",
   "metadata": {},
   "outputs": [],
   "source": [
    "clean_df = df.loc[(df['year'] >= start_year) & ((df['year'] <= end_year))]\n",
    "clean_df.reset_index(drop=True, inplace=True)"
   ]
  },
  {
   "cell_type": "code",
   "execution_count": 22,
   "id": "b1f4116a",
   "metadata": {},
   "outputs": [],
   "source": [
    "clean_df['country_year'] = clean_df['country'] + \"-\" + clean_df['year'].astype(str)"
   ]
  },
  {
   "cell_type": "code",
   "execution_count": 23,
   "id": "7a317496",
   "metadata": {},
   "outputs": [
    {
     "data": {
      "text/html": [
       "<div>\n",
       "<style scoped>\n",
       "    .dataframe tbody tr th:only-of-type {\n",
       "        vertical-align: middle;\n",
       "    }\n",
       "\n",
       "    .dataframe tbody tr th {\n",
       "        vertical-align: top;\n",
       "    }\n",
       "\n",
       "    .dataframe thead th {\n",
       "        text-align: right;\n",
       "    }\n",
       "</style>\n",
       "<table border=\"1\" class=\"dataframe\">\n",
       "  <thead>\n",
       "    <tr style=\"text-align: right;\">\n",
       "      <th></th>\n",
       "      <th>country</th>\n",
       "      <th>year</th>\n",
       "      <th>dimension</th>\n",
       "      <th>homicide_rate</th>\n",
       "      <th>country_code</th>\n",
       "    </tr>\n",
       "  </thead>\n",
       "  <tbody>\n",
       "    <tr>\n",
       "      <th>0</th>\n",
       "      <td>Afghanistan</td>\n",
       "      <td>2000</td>\n",
       "      <td>Male</td>\n",
       "      <td>16.71</td>\n",
       "      <td>Afghanistan-2000</td>\n",
       "    </tr>\n",
       "    <tr>\n",
       "      <th>1</th>\n",
       "      <td>Afghanistan</td>\n",
       "      <td>2000</td>\n",
       "      <td>Female</td>\n",
       "      <td>2.43</td>\n",
       "      <td>Afghanistan-2000</td>\n",
       "    </tr>\n",
       "    <tr>\n",
       "      <th>2</th>\n",
       "      <td>Afghanistan</td>\n",
       "      <td>2000</td>\n",
       "      <td>Both sexes</td>\n",
       "      <td>9.78</td>\n",
       "      <td>Afghanistan-2000</td>\n",
       "    </tr>\n",
       "    <tr>\n",
       "      <th>3</th>\n",
       "      <td>Afghanistan</td>\n",
       "      <td>2001</td>\n",
       "      <td>Male</td>\n",
       "      <td>16.44</td>\n",
       "      <td>Afghanistan-2001</td>\n",
       "    </tr>\n",
       "    <tr>\n",
       "      <th>4</th>\n",
       "      <td>Afghanistan</td>\n",
       "      <td>2001</td>\n",
       "      <td>Female</td>\n",
       "      <td>2.43</td>\n",
       "      <td>Afghanistan-2001</td>\n",
       "    </tr>\n",
       "    <tr>\n",
       "      <th>...</th>\n",
       "      <td>...</td>\n",
       "      <td>...</td>\n",
       "      <td>...</td>\n",
       "      <td>...</td>\n",
       "      <td>...</td>\n",
       "    </tr>\n",
       "    <tr>\n",
       "      <th>10975</th>\n",
       "      <td>Zimbabwe</td>\n",
       "      <td>2018</td>\n",
       "      <td>Male</td>\n",
       "      <td>21.65</td>\n",
       "      <td>Zimbabwe-2018</td>\n",
       "    </tr>\n",
       "    <tr>\n",
       "      <th>10976</th>\n",
       "      <td>Zimbabwe</td>\n",
       "      <td>2018</td>\n",
       "      <td>Female</td>\n",
       "      <td>5.50</td>\n",
       "      <td>Zimbabwe-2018</td>\n",
       "    </tr>\n",
       "    <tr>\n",
       "      <th>10977</th>\n",
       "      <td>Zimbabwe</td>\n",
       "      <td>2019</td>\n",
       "      <td>Both sexes</td>\n",
       "      <td>13.08</td>\n",
       "      <td>Zimbabwe-2019</td>\n",
       "    </tr>\n",
       "    <tr>\n",
       "      <th>10978</th>\n",
       "      <td>Zimbabwe</td>\n",
       "      <td>2019</td>\n",
       "      <td>Male</td>\n",
       "      <td>21.68</td>\n",
       "      <td>Zimbabwe-2019</td>\n",
       "    </tr>\n",
       "    <tr>\n",
       "      <th>10979</th>\n",
       "      <td>Zimbabwe</td>\n",
       "      <td>2019</td>\n",
       "      <td>Female</td>\n",
       "      <td>5.25</td>\n",
       "      <td>Zimbabwe-2019</td>\n",
       "    </tr>\n",
       "  </tbody>\n",
       "</table>\n",
       "<p>10980 rows × 5 columns</p>\n",
       "</div>"
      ],
      "text/plain": [
       "           country  year   dimension  homicide_rate      country_code\n",
       "0      Afghanistan  2000        Male          16.71  Afghanistan-2000\n",
       "1      Afghanistan  2000      Female           2.43  Afghanistan-2000\n",
       "2      Afghanistan  2000  Both sexes           9.78  Afghanistan-2000\n",
       "3      Afghanistan  2001        Male          16.44  Afghanistan-2001\n",
       "4      Afghanistan  2001      Female           2.43  Afghanistan-2001\n",
       "...            ...   ...         ...            ...               ...\n",
       "10975     Zimbabwe  2018        Male          21.65     Zimbabwe-2018\n",
       "10976     Zimbabwe  2018      Female           5.50     Zimbabwe-2018\n",
       "10977     Zimbabwe  2019  Both sexes          13.08     Zimbabwe-2019\n",
       "10978     Zimbabwe  2019        Male          21.68     Zimbabwe-2019\n",
       "10979     Zimbabwe  2019      Female           5.25     Zimbabwe-2019\n",
       "\n",
       "[10980 rows x 5 columns]"
      ]
     },
     "execution_count": 23,
     "metadata": {},
     "output_type": "execute_result"
    }
   ],
   "source": [
    "clean_df"
   ]
  },
  {
   "cell_type": "code",
   "execution_count": 24,
   "id": "0aadd090",
   "metadata": {},
   "outputs": [
    {
     "name": "stdout",
     "output_type": "stream",
     "text": [
      "Countries: 183\n"
     ]
    },
    {
     "name": "stderr",
     "output_type": "stream",
     "text": [
      "C:\\Users\\rpmcl\\anaconda3\\lib\\site-packages\\pandas\\core\\frame.py:4308: SettingWithCopyWarning: \n",
      "A value is trying to be set on a copy of a slice from a DataFrame\n",
      "\n",
      "See the caveats in the documentation: https://pandas.pydata.org/pandas-docs/stable/user_guide/indexing.html#returning-a-view-versus-a-copy\n",
      "  return super().drop(\n"
     ]
    },
    {
     "data": {
      "text/html": [
       "<div>\n",
       "<style scoped>\n",
       "    .dataframe tbody tr th:only-of-type {\n",
       "        vertical-align: middle;\n",
       "    }\n",
       "\n",
       "    .dataframe tbody tr th {\n",
       "        vertical-align: top;\n",
       "    }\n",
       "\n",
       "    .dataframe thead th {\n",
       "        text-align: right;\n",
       "    }\n",
       "</style>\n",
       "<table border=\"1\" class=\"dataframe\">\n",
       "  <thead>\n",
       "    <tr style=\"text-align: right;\">\n",
       "      <th></th>\n",
       "      <th>country</th>\n",
       "      <th>year</th>\n",
       "      <th>homicide_rate</th>\n",
       "      <th>country_code</th>\n",
       "    </tr>\n",
       "  </thead>\n",
       "  <tbody>\n",
       "    <tr>\n",
       "      <th>2</th>\n",
       "      <td>Afghanistan</td>\n",
       "      <td>2000</td>\n",
       "      <td>9.78</td>\n",
       "      <td>Afghanistan-2000</td>\n",
       "    </tr>\n",
       "    <tr>\n",
       "      <th>5</th>\n",
       "      <td>Afghanistan</td>\n",
       "      <td>2001</td>\n",
       "      <td>9.64</td>\n",
       "      <td>Afghanistan-2001</td>\n",
       "    </tr>\n",
       "    <tr>\n",
       "      <th>6</th>\n",
       "      <td>Afghanistan</td>\n",
       "      <td>2002</td>\n",
       "      <td>10.18</td>\n",
       "      <td>Afghanistan-2002</td>\n",
       "    </tr>\n",
       "    <tr>\n",
       "      <th>9</th>\n",
       "      <td>Afghanistan</td>\n",
       "      <td>2003</td>\n",
       "      <td>10.40</td>\n",
       "      <td>Afghanistan-2003</td>\n",
       "    </tr>\n",
       "    <tr>\n",
       "      <th>14</th>\n",
       "      <td>Afghanistan</td>\n",
       "      <td>2004</td>\n",
       "      <td>9.74</td>\n",
       "      <td>Afghanistan-2004</td>\n",
       "    </tr>\n",
       "  </tbody>\n",
       "</table>\n",
       "</div>"
      ],
      "text/plain": [
       "        country  year  homicide_rate      country_code\n",
       "2   Afghanistan  2000           9.78  Afghanistan-2000\n",
       "5   Afghanistan  2001           9.64  Afghanistan-2001\n",
       "6   Afghanistan  2002          10.18  Afghanistan-2002\n",
       "9   Afghanistan  2003          10.40  Afghanistan-2003\n",
       "14  Afghanistan  2004           9.74  Afghanistan-2004"
      ]
     },
     "execution_count": 24,
     "metadata": {},
     "output_type": "execute_result"
    }
   ],
   "source": [
    "extract_df = clean_df.loc[df['dimension'] == \"Both sexes\"]\n",
    "extract_df.drop(['dimension'], axis=1, inplace=True)\n",
    "\n",
    "print ('Countries:', clean_df['country'].nunique())\n",
    "extract_df.head()"
   ]
  },
  {
   "cell_type": "code",
   "execution_count": 25,
   "id": "0845ec3d",
   "metadata": {},
   "outputs": [],
   "source": [
    "extract_df.to_csv(\"clean/extract_homicide_rate.csv\", index=False)"
   ]
  },
  {
   "cell_type": "code",
   "execution_count": null,
   "id": "ee7f3cd7",
   "metadata": {},
   "outputs": [],
   "source": []
  },
  {
   "cell_type": "markdown",
   "id": "1c1d3022",
   "metadata": {},
   "source": [
    "## Insufficient Physical Activity (among school going adolescents aged 11-17 years)"
   ]
  },
  {
   "cell_type": "code",
   "execution_count": 26,
   "id": "dce7f3d2",
   "metadata": {},
   "outputs": [],
   "source": [
    "## Set input file\n",
    "filename = 'who_insufficient_activity_pct.csv'\n",
    "path = os.path.join('input', filename)"
   ]
  },
  {
   "cell_type": "code",
   "execution_count": 27,
   "id": "7de35411",
   "metadata": {},
   "outputs": [],
   "source": [
    "## Load CSV as DataFrame\n",
    "cols = ['Location','Period','Dim1', 'FactValueNumeric']\n",
    "df = pd.read_csv(path, usecols = cols, low_memory=False)"
   ]
  },
  {
   "cell_type": "code",
   "execution_count": 28,
   "id": "42252631",
   "metadata": {},
   "outputs": [],
   "source": [
    "df = df.sort_values(by=['Location','Period'], ignore_index=True)"
   ]
  },
  {
   "cell_type": "code",
   "execution_count": 29,
   "id": "234699d4",
   "metadata": {},
   "outputs": [],
   "source": [
    "df = df.rename(columns={\n",
    "    'Location': 'country',\n",
    "    'Period': 'year',\n",
    "    'Dim1': 'dimension',\n",
    "    'FactValueNumeric': 'insufficient_activity'\n",
    "})"
   ]
  },
  {
   "cell_type": "code",
   "execution_count": 30,
   "id": "d24e6c1c",
   "metadata": {},
   "outputs": [
    {
     "name": "stdout",
     "output_type": "stream",
     "text": [
      "Countries: 194\n"
     ]
    },
    {
     "data": {
      "text/html": [
       "<div>\n",
       "<style scoped>\n",
       "    .dataframe tbody tr th:only-of-type {\n",
       "        vertical-align: middle;\n",
       "    }\n",
       "\n",
       "    .dataframe tbody tr th {\n",
       "        vertical-align: top;\n",
       "    }\n",
       "\n",
       "    .dataframe thead th {\n",
       "        text-align: right;\n",
       "    }\n",
       "</style>\n",
       "<table border=\"1\" class=\"dataframe\">\n",
       "  <thead>\n",
       "    <tr style=\"text-align: right;\">\n",
       "      <th></th>\n",
       "      <th>country</th>\n",
       "      <th>year</th>\n",
       "      <th>dimension</th>\n",
       "      <th>insufficient_activity</th>\n",
       "    </tr>\n",
       "  </thead>\n",
       "  <tbody>\n",
       "    <tr>\n",
       "      <th>0</th>\n",
       "      <td>Afghanistan</td>\n",
       "      <td>2001</td>\n",
       "      <td>Male</td>\n",
       "      <td>85.88</td>\n",
       "    </tr>\n",
       "    <tr>\n",
       "      <th>1</th>\n",
       "      <td>Afghanistan</td>\n",
       "      <td>2001</td>\n",
       "      <td>Both sexes</td>\n",
       "      <td>86.39</td>\n",
       "    </tr>\n",
       "    <tr>\n",
       "      <th>2</th>\n",
       "      <td>Afghanistan</td>\n",
       "      <td>2001</td>\n",
       "      <td>Female</td>\n",
       "      <td>86.95</td>\n",
       "    </tr>\n",
       "    <tr>\n",
       "      <th>3</th>\n",
       "      <td>Afghanistan</td>\n",
       "      <td>2002</td>\n",
       "      <td>Male</td>\n",
       "      <td>86.07</td>\n",
       "    </tr>\n",
       "    <tr>\n",
       "      <th>4</th>\n",
       "      <td>Afghanistan</td>\n",
       "      <td>2002</td>\n",
       "      <td>Both sexes</td>\n",
       "      <td>86.52</td>\n",
       "    </tr>\n",
       "  </tbody>\n",
       "</table>\n",
       "</div>"
      ],
      "text/plain": [
       "       country  year   dimension  insufficient_activity\n",
       "0  Afghanistan  2001        Male                  85.88\n",
       "1  Afghanistan  2001  Both sexes                  86.39\n",
       "2  Afghanistan  2001      Female                  86.95\n",
       "3  Afghanistan  2002        Male                  86.07\n",
       "4  Afghanistan  2002  Both sexes                  86.52"
      ]
     },
     "execution_count": 30,
     "metadata": {},
     "output_type": "execute_result"
    }
   ],
   "source": [
    "print('Countries:', df['country'].nunique())\n",
    "df.head()"
   ]
  },
  {
   "cell_type": "code",
   "execution_count": null,
   "id": "75ea38ab",
   "metadata": {},
   "outputs": [],
   "source": [
    "df.replace('Russian Federation', 'Russia', inplace=True)"
   ]
  },
  {
   "cell_type": "code",
   "execution_count": 31,
   "id": "36c650cf",
   "metadata": {},
   "outputs": [],
   "source": [
    "clean_df = df.loc[(df['year'] >= start_year) & ((df['year'] <= end_year))]\n",
    "clean_df.reset_index(drop=True, inplace=True)"
   ]
  },
  {
   "cell_type": "code",
   "execution_count": 32,
   "id": "0bc73968",
   "metadata": {},
   "outputs": [],
   "source": [
    "clean_df['country_year'] = clean_df['country'] + \"-\" + clean_df['year'].astype(str)"
   ]
  },
  {
   "cell_type": "code",
   "execution_count": 33,
   "id": "eb475481",
   "metadata": {},
   "outputs": [
    {
     "data": {
      "text/html": [
       "<div>\n",
       "<style scoped>\n",
       "    .dataframe tbody tr th:only-of-type {\n",
       "        vertical-align: middle;\n",
       "    }\n",
       "\n",
       "    .dataframe tbody tr th {\n",
       "        vertical-align: top;\n",
       "    }\n",
       "\n",
       "    .dataframe thead th {\n",
       "        text-align: right;\n",
       "    }\n",
       "</style>\n",
       "<table border=\"1\" class=\"dataframe\">\n",
       "  <thead>\n",
       "    <tr style=\"text-align: right;\">\n",
       "      <th></th>\n",
       "      <th>country</th>\n",
       "      <th>year</th>\n",
       "      <th>dimension</th>\n",
       "      <th>insufficient_activity</th>\n",
       "      <th>country_code</th>\n",
       "    </tr>\n",
       "  </thead>\n",
       "  <tbody>\n",
       "    <tr>\n",
       "      <th>0</th>\n",
       "      <td>Afghanistan</td>\n",
       "      <td>2001</td>\n",
       "      <td>Male</td>\n",
       "      <td>85.88</td>\n",
       "      <td>Afghanistan-2001</td>\n",
       "    </tr>\n",
       "    <tr>\n",
       "      <th>1</th>\n",
       "      <td>Afghanistan</td>\n",
       "      <td>2001</td>\n",
       "      <td>Both sexes</td>\n",
       "      <td>86.39</td>\n",
       "      <td>Afghanistan-2001</td>\n",
       "    </tr>\n",
       "    <tr>\n",
       "      <th>2</th>\n",
       "      <td>Afghanistan</td>\n",
       "      <td>2001</td>\n",
       "      <td>Female</td>\n",
       "      <td>86.95</td>\n",
       "      <td>Afghanistan-2001</td>\n",
       "    </tr>\n",
       "    <tr>\n",
       "      <th>3</th>\n",
       "      <td>Afghanistan</td>\n",
       "      <td>2002</td>\n",
       "      <td>Male</td>\n",
       "      <td>86.07</td>\n",
       "      <td>Afghanistan-2002</td>\n",
       "    </tr>\n",
       "    <tr>\n",
       "      <th>4</th>\n",
       "      <td>Afghanistan</td>\n",
       "      <td>2002</td>\n",
       "      <td>Both sexes</td>\n",
       "      <td>86.52</td>\n",
       "      <td>Afghanistan-2002</td>\n",
       "    </tr>\n",
       "    <tr>\n",
       "      <th>...</th>\n",
       "      <td>...</td>\n",
       "      <td>...</td>\n",
       "      <td>...</td>\n",
       "      <td>...</td>\n",
       "      <td>...</td>\n",
       "    </tr>\n",
       "    <tr>\n",
       "      <th>6562</th>\n",
       "      <td>Zimbabwe</td>\n",
       "      <td>2015</td>\n",
       "      <td>Both sexes</td>\n",
       "      <td>86.65</td>\n",
       "      <td>Zimbabwe-2015</td>\n",
       "    </tr>\n",
       "    <tr>\n",
       "      <th>6563</th>\n",
       "      <td>Zimbabwe</td>\n",
       "      <td>2015</td>\n",
       "      <td>Female</td>\n",
       "      <td>88.63</td>\n",
       "      <td>Zimbabwe-2015</td>\n",
       "    </tr>\n",
       "    <tr>\n",
       "      <th>6564</th>\n",
       "      <td>Zimbabwe</td>\n",
       "      <td>2016</td>\n",
       "      <td>Male</td>\n",
       "      <td>84.63</td>\n",
       "      <td>Zimbabwe-2016</td>\n",
       "    </tr>\n",
       "    <tr>\n",
       "      <th>6565</th>\n",
       "      <td>Zimbabwe</td>\n",
       "      <td>2016</td>\n",
       "      <td>Both sexes</td>\n",
       "      <td>86.64</td>\n",
       "      <td>Zimbabwe-2016</td>\n",
       "    </tr>\n",
       "    <tr>\n",
       "      <th>6566</th>\n",
       "      <td>Zimbabwe</td>\n",
       "      <td>2016</td>\n",
       "      <td>Female</td>\n",
       "      <td>88.64</td>\n",
       "      <td>Zimbabwe-2016</td>\n",
       "    </tr>\n",
       "  </tbody>\n",
       "</table>\n",
       "<p>6567 rows × 5 columns</p>\n",
       "</div>"
      ],
      "text/plain": [
       "          country  year   dimension  insufficient_activity      country_code\n",
       "0     Afghanistan  2001        Male                  85.88  Afghanistan-2001\n",
       "1     Afghanistan  2001  Both sexes                  86.39  Afghanistan-2001\n",
       "2     Afghanistan  2001      Female                  86.95  Afghanistan-2001\n",
       "3     Afghanistan  2002        Male                  86.07  Afghanistan-2002\n",
       "4     Afghanistan  2002  Both sexes                  86.52  Afghanistan-2002\n",
       "...           ...   ...         ...                    ...               ...\n",
       "6562     Zimbabwe  2015  Both sexes                  86.65     Zimbabwe-2015\n",
       "6563     Zimbabwe  2015      Female                  88.63     Zimbabwe-2015\n",
       "6564     Zimbabwe  2016        Male                  84.63     Zimbabwe-2016\n",
       "6565     Zimbabwe  2016  Both sexes                  86.64     Zimbabwe-2016\n",
       "6566     Zimbabwe  2016      Female                  88.64     Zimbabwe-2016\n",
       "\n",
       "[6567 rows x 5 columns]"
      ]
     },
     "execution_count": 33,
     "metadata": {},
     "output_type": "execute_result"
    }
   ],
   "source": [
    "clean_df"
   ]
  },
  {
   "cell_type": "code",
   "execution_count": 34,
   "id": "0c7ec4c8",
   "metadata": {},
   "outputs": [
    {
     "name": "stdout",
     "output_type": "stream",
     "text": [
      "Countries: 194\n"
     ]
    },
    {
     "name": "stderr",
     "output_type": "stream",
     "text": [
      "C:\\Users\\rpmcl\\anaconda3\\lib\\site-packages\\pandas\\core\\frame.py:4308: SettingWithCopyWarning: \n",
      "A value is trying to be set on a copy of a slice from a DataFrame\n",
      "\n",
      "See the caveats in the documentation: https://pandas.pydata.org/pandas-docs/stable/user_guide/indexing.html#returning-a-view-versus-a-copy\n",
      "  return super().drop(\n"
     ]
    },
    {
     "data": {
      "text/html": [
       "<div>\n",
       "<style scoped>\n",
       "    .dataframe tbody tr th:only-of-type {\n",
       "        vertical-align: middle;\n",
       "    }\n",
       "\n",
       "    .dataframe tbody tr th {\n",
       "        vertical-align: top;\n",
       "    }\n",
       "\n",
       "    .dataframe thead th {\n",
       "        text-align: right;\n",
       "    }\n",
       "</style>\n",
       "<table border=\"1\" class=\"dataframe\">\n",
       "  <thead>\n",
       "    <tr style=\"text-align: right;\">\n",
       "      <th></th>\n",
       "      <th>country</th>\n",
       "      <th>year</th>\n",
       "      <th>insufficient_activity</th>\n",
       "      <th>country_code</th>\n",
       "    </tr>\n",
       "  </thead>\n",
       "  <tbody>\n",
       "    <tr>\n",
       "      <th>1</th>\n",
       "      <td>Afghanistan</td>\n",
       "      <td>2001</td>\n",
       "      <td>86.39</td>\n",
       "      <td>Afghanistan-2001</td>\n",
       "    </tr>\n",
       "    <tr>\n",
       "      <th>4</th>\n",
       "      <td>Afghanistan</td>\n",
       "      <td>2002</td>\n",
       "      <td>86.52</td>\n",
       "      <td>Afghanistan-2002</td>\n",
       "    </tr>\n",
       "    <tr>\n",
       "      <th>7</th>\n",
       "      <td>Afghanistan</td>\n",
       "      <td>2003</td>\n",
       "      <td>86.64</td>\n",
       "      <td>Afghanistan-2003</td>\n",
       "    </tr>\n",
       "    <tr>\n",
       "      <th>10</th>\n",
       "      <td>Afghanistan</td>\n",
       "      <td>2004</td>\n",
       "      <td>86.77</td>\n",
       "      <td>Afghanistan-2004</td>\n",
       "    </tr>\n",
       "    <tr>\n",
       "      <th>13</th>\n",
       "      <td>Afghanistan</td>\n",
       "      <td>2005</td>\n",
       "      <td>86.89</td>\n",
       "      <td>Afghanistan-2005</td>\n",
       "    </tr>\n",
       "  </tbody>\n",
       "</table>\n",
       "</div>"
      ],
      "text/plain": [
       "        country  year  insufficient_activity      country_code\n",
       "1   Afghanistan  2001                  86.39  Afghanistan-2001\n",
       "4   Afghanistan  2002                  86.52  Afghanistan-2002\n",
       "7   Afghanistan  2003                  86.64  Afghanistan-2003\n",
       "10  Afghanistan  2004                  86.77  Afghanistan-2004\n",
       "13  Afghanistan  2005                  86.89  Afghanistan-2005"
      ]
     },
     "execution_count": 34,
     "metadata": {},
     "output_type": "execute_result"
    }
   ],
   "source": [
    "extract_df = clean_df.loc[df['dimension'] == \"Both sexes\"]\n",
    "extract_df.drop(['dimension'], axis=1, inplace=True)\n",
    "\n",
    "print ('Countries:', clean_df['country'].nunique())\n",
    "extract_df.head()"
   ]
  },
  {
   "cell_type": "code",
   "execution_count": 35,
   "id": "3d5703ff",
   "metadata": {},
   "outputs": [],
   "source": [
    "extract_df.to_csv(\"clean/extract_insufficient_activity.csv\", index=False)"
   ]
  },
  {
   "cell_type": "code",
   "execution_count": null,
   "id": "fffffa7e",
   "metadata": {},
   "outputs": [],
   "source": []
  }
 ],
 "metadata": {
  "kernelspec": {
   "display_name": "Python 3",
   "language": "python",
   "name": "python3"
  },
  "language_info": {
   "codemirror_mode": {
    "name": "ipython",
    "version": 3
   },
   "file_extension": ".py",
   "mimetype": "text/x-python",
   "name": "python",
   "nbconvert_exporter": "python",
   "pygments_lexer": "ipython3",
   "version": "3.8.8"
  }
 },
 "nbformat": 4,
 "nbformat_minor": 5
}
