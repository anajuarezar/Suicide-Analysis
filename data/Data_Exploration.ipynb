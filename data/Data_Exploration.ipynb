{
 "cells": [
  {
   "cell_type": "code",
   "execution_count": 1,
   "metadata": {},
   "outputs": [],
   "source": [
    "#Importing libraries\n",
    "import csv\n",
    "import os\n",
    "import pandas as pd\n",
    "import numpy as np"
   ]
  },
  {
   "cell_type": "markdown",
   "metadata": {},
   "source": [
    "## Population"
   ]
  },
  {
   "cell_type": "code",
   "execution_count": 2,
   "metadata": {},
   "outputs": [
    {
     "data": {
      "text/html": [
       "<div>\n",
       "<style scoped>\n",
       "    .dataframe tbody tr th:only-of-type {\n",
       "        vertical-align: middle;\n",
       "    }\n",
       "\n",
       "    .dataframe tbody tr th {\n",
       "        vertical-align: top;\n",
       "    }\n",
       "\n",
       "    .dataframe thead th {\n",
       "        text-align: right;\n",
       "    }\n",
       "</style>\n",
       "<table border=\"1\" class=\"dataframe\">\n",
       "  <thead>\n",
       "    <tr style=\"text-align: right;\">\n",
       "      <th></th>\n",
       "      <th>Country Name</th>\n",
       "      <th>Country Code</th>\n",
       "      <th>Indicator Name</th>\n",
       "      <th>Indicator Code</th>\n",
       "      <th>1960</th>\n",
       "      <th>1961</th>\n",
       "      <th>1962</th>\n",
       "      <th>1963</th>\n",
       "      <th>1964</th>\n",
       "      <th>1965</th>\n",
       "      <th>...</th>\n",
       "      <th>2012</th>\n",
       "      <th>2013</th>\n",
       "      <th>2014</th>\n",
       "      <th>2015</th>\n",
       "      <th>2016</th>\n",
       "      <th>2017</th>\n",
       "      <th>2018</th>\n",
       "      <th>2019</th>\n",
       "      <th>2020</th>\n",
       "      <th>Unnamed: 65</th>\n",
       "    </tr>\n",
       "  </thead>\n",
       "  <tbody>\n",
       "    <tr>\n",
       "      <th>0</th>\n",
       "      <td>Aruba</td>\n",
       "      <td>ABW</td>\n",
       "      <td>Population, total</td>\n",
       "      <td>SP.POP.TOTL</td>\n",
       "      <td>54208.0</td>\n",
       "      <td>55434.0</td>\n",
       "      <td>56234.0</td>\n",
       "      <td>56699.0</td>\n",
       "      <td>57029.0</td>\n",
       "      <td>57357.0</td>\n",
       "      <td>...</td>\n",
       "      <td>102565.0</td>\n",
       "      <td>103165.0</td>\n",
       "      <td>103776.0</td>\n",
       "      <td>104339.0</td>\n",
       "      <td>104865.0</td>\n",
       "      <td>105361.0</td>\n",
       "      <td>105846.0</td>\n",
       "      <td>106310.0</td>\n",
       "      <td>106766.0</td>\n",
       "      <td>NaN</td>\n",
       "    </tr>\n",
       "    <tr>\n",
       "      <th>1</th>\n",
       "      <td>Africa Eastern and Southern</td>\n",
       "      <td>AFE</td>\n",
       "      <td>Population, total</td>\n",
       "      <td>SP.POP.TOTL</td>\n",
       "      <td>130836765.0</td>\n",
       "      <td>134159786.0</td>\n",
       "      <td>137614644.0</td>\n",
       "      <td>141202036.0</td>\n",
       "      <td>144920186.0</td>\n",
       "      <td>148769974.0</td>\n",
       "      <td>...</td>\n",
       "      <td>547482863.0</td>\n",
       "      <td>562601578.0</td>\n",
       "      <td>578075373.0</td>\n",
       "      <td>593871847.0</td>\n",
       "      <td>609978946.0</td>\n",
       "      <td>626392880.0</td>\n",
       "      <td>643090131.0</td>\n",
       "      <td>660046272.0</td>\n",
       "      <td>677243299.0</td>\n",
       "      <td>NaN</td>\n",
       "    </tr>\n",
       "    <tr>\n",
       "      <th>2</th>\n",
       "      <td>Afghanistan</td>\n",
       "      <td>AFG</td>\n",
       "      <td>Population, total</td>\n",
       "      <td>SP.POP.TOTL</td>\n",
       "      <td>8996967.0</td>\n",
       "      <td>9169406.0</td>\n",
       "      <td>9351442.0</td>\n",
       "      <td>9543200.0</td>\n",
       "      <td>9744772.0</td>\n",
       "      <td>9956318.0</td>\n",
       "      <td>...</td>\n",
       "      <td>31161378.0</td>\n",
       "      <td>32269592.0</td>\n",
       "      <td>33370804.0</td>\n",
       "      <td>34413603.0</td>\n",
       "      <td>35383028.0</td>\n",
       "      <td>36296111.0</td>\n",
       "      <td>37171922.0</td>\n",
       "      <td>38041757.0</td>\n",
       "      <td>38928341.0</td>\n",
       "      <td>NaN</td>\n",
       "    </tr>\n",
       "    <tr>\n",
       "      <th>3</th>\n",
       "      <td>Africa Western and Central</td>\n",
       "      <td>AFW</td>\n",
       "      <td>Population, total</td>\n",
       "      <td>SP.POP.TOTL</td>\n",
       "      <td>96396419.0</td>\n",
       "      <td>98407221.0</td>\n",
       "      <td>100506960.0</td>\n",
       "      <td>102691339.0</td>\n",
       "      <td>104953470.0</td>\n",
       "      <td>107289875.0</td>\n",
       "      <td>...</td>\n",
       "      <td>370243017.0</td>\n",
       "      <td>380437896.0</td>\n",
       "      <td>390882979.0</td>\n",
       "      <td>401586651.0</td>\n",
       "      <td>412551299.0</td>\n",
       "      <td>423769930.0</td>\n",
       "      <td>435229381.0</td>\n",
       "      <td>446911598.0</td>\n",
       "      <td>458803476.0</td>\n",
       "      <td>NaN</td>\n",
       "    </tr>\n",
       "    <tr>\n",
       "      <th>4</th>\n",
       "      <td>Angola</td>\n",
       "      <td>AGO</td>\n",
       "      <td>Population, total</td>\n",
       "      <td>SP.POP.TOTL</td>\n",
       "      <td>5454938.0</td>\n",
       "      <td>5531451.0</td>\n",
       "      <td>5608499.0</td>\n",
       "      <td>5679409.0</td>\n",
       "      <td>5734995.0</td>\n",
       "      <td>5770573.0</td>\n",
       "      <td>...</td>\n",
       "      <td>25107925.0</td>\n",
       "      <td>26015786.0</td>\n",
       "      <td>26941773.0</td>\n",
       "      <td>27884380.0</td>\n",
       "      <td>28842482.0</td>\n",
       "      <td>29816769.0</td>\n",
       "      <td>30809787.0</td>\n",
       "      <td>31825299.0</td>\n",
       "      <td>32866268.0</td>\n",
       "      <td>NaN</td>\n",
       "    </tr>\n",
       "    <tr>\n",
       "      <th>...</th>\n",
       "      <td>...</td>\n",
       "      <td>...</td>\n",
       "      <td>...</td>\n",
       "      <td>...</td>\n",
       "      <td>...</td>\n",
       "      <td>...</td>\n",
       "      <td>...</td>\n",
       "      <td>...</td>\n",
       "      <td>...</td>\n",
       "      <td>...</td>\n",
       "      <td>...</td>\n",
       "      <td>...</td>\n",
       "      <td>...</td>\n",
       "      <td>...</td>\n",
       "      <td>...</td>\n",
       "      <td>...</td>\n",
       "      <td>...</td>\n",
       "      <td>...</td>\n",
       "      <td>...</td>\n",
       "      <td>...</td>\n",
       "      <td>...</td>\n",
       "    </tr>\n",
       "    <tr>\n",
       "      <th>261</th>\n",
       "      <td>Kosovo</td>\n",
       "      <td>XKX</td>\n",
       "      <td>Population, total</td>\n",
       "      <td>SP.POP.TOTL</td>\n",
       "      <td>947000.0</td>\n",
       "      <td>966000.0</td>\n",
       "      <td>994000.0</td>\n",
       "      <td>1022000.0</td>\n",
       "      <td>1050000.0</td>\n",
       "      <td>1078000.0</td>\n",
       "      <td>...</td>\n",
       "      <td>1807106.0</td>\n",
       "      <td>1818117.0</td>\n",
       "      <td>1812771.0</td>\n",
       "      <td>1788196.0</td>\n",
       "      <td>1777557.0</td>\n",
       "      <td>1791003.0</td>\n",
       "      <td>1797085.0</td>\n",
       "      <td>1788878.0</td>\n",
       "      <td>1775378.0</td>\n",
       "      <td>NaN</td>\n",
       "    </tr>\n",
       "    <tr>\n",
       "      <th>262</th>\n",
       "      <td>Yemen, Rep.</td>\n",
       "      <td>YEM</td>\n",
       "      <td>Population, total</td>\n",
       "      <td>SP.POP.TOTL</td>\n",
       "      <td>5315351.0</td>\n",
       "      <td>5393034.0</td>\n",
       "      <td>5473671.0</td>\n",
       "      <td>5556767.0</td>\n",
       "      <td>5641598.0</td>\n",
       "      <td>5727745.0</td>\n",
       "      <td>...</td>\n",
       "      <td>24473176.0</td>\n",
       "      <td>25147112.0</td>\n",
       "      <td>25823488.0</td>\n",
       "      <td>26497881.0</td>\n",
       "      <td>27168210.0</td>\n",
       "      <td>27834811.0</td>\n",
       "      <td>28498683.0</td>\n",
       "      <td>29161922.0</td>\n",
       "      <td>29825968.0</td>\n",
       "      <td>NaN</td>\n",
       "    </tr>\n",
       "    <tr>\n",
       "      <th>263</th>\n",
       "      <td>South Africa</td>\n",
       "      <td>ZAF</td>\n",
       "      <td>Population, total</td>\n",
       "      <td>SP.POP.TOTL</td>\n",
       "      <td>17099836.0</td>\n",
       "      <td>17524533.0</td>\n",
       "      <td>17965733.0</td>\n",
       "      <td>18423157.0</td>\n",
       "      <td>18896303.0</td>\n",
       "      <td>19384838.0</td>\n",
       "      <td>...</td>\n",
       "      <td>52832659.0</td>\n",
       "      <td>53687125.0</td>\n",
       "      <td>54544184.0</td>\n",
       "      <td>55386369.0</td>\n",
       "      <td>56207649.0</td>\n",
       "      <td>57009751.0</td>\n",
       "      <td>57792520.0</td>\n",
       "      <td>58558267.0</td>\n",
       "      <td>59308690.0</td>\n",
       "      <td>NaN</td>\n",
       "    </tr>\n",
       "    <tr>\n",
       "      <th>264</th>\n",
       "      <td>Zambia</td>\n",
       "      <td>ZMB</td>\n",
       "      <td>Population, total</td>\n",
       "      <td>SP.POP.TOTL</td>\n",
       "      <td>3070780.0</td>\n",
       "      <td>3164330.0</td>\n",
       "      <td>3260645.0</td>\n",
       "      <td>3360099.0</td>\n",
       "      <td>3463211.0</td>\n",
       "      <td>3570466.0</td>\n",
       "      <td>...</td>\n",
       "      <td>14465148.0</td>\n",
       "      <td>14926551.0</td>\n",
       "      <td>15399793.0</td>\n",
       "      <td>15879370.0</td>\n",
       "      <td>16363449.0</td>\n",
       "      <td>16853608.0</td>\n",
       "      <td>17351714.0</td>\n",
       "      <td>17861034.0</td>\n",
       "      <td>18383956.0</td>\n",
       "      <td>NaN</td>\n",
       "    </tr>\n",
       "    <tr>\n",
       "      <th>265</th>\n",
       "      <td>Zimbabwe</td>\n",
       "      <td>ZWE</td>\n",
       "      <td>Population, total</td>\n",
       "      <td>SP.POP.TOTL</td>\n",
       "      <td>3776679.0</td>\n",
       "      <td>3905038.0</td>\n",
       "      <td>4039209.0</td>\n",
       "      <td>4178726.0</td>\n",
       "      <td>4322854.0</td>\n",
       "      <td>4471178.0</td>\n",
       "      <td>...</td>\n",
       "      <td>13115149.0</td>\n",
       "      <td>13350378.0</td>\n",
       "      <td>13586710.0</td>\n",
       "      <td>13814642.0</td>\n",
       "      <td>14030338.0</td>\n",
       "      <td>14236599.0</td>\n",
       "      <td>14438812.0</td>\n",
       "      <td>14645473.0</td>\n",
       "      <td>14862927.0</td>\n",
       "      <td>NaN</td>\n",
       "    </tr>\n",
       "  </tbody>\n",
       "</table>\n",
       "<p>266 rows × 66 columns</p>\n",
       "</div>"
      ],
      "text/plain": [
       "                    Country Name Country Code     Indicator Name  \\\n",
       "0                          Aruba          ABW  Population, total   \n",
       "1    Africa Eastern and Southern          AFE  Population, total   \n",
       "2                    Afghanistan          AFG  Population, total   \n",
       "3     Africa Western and Central          AFW  Population, total   \n",
       "4                         Angola          AGO  Population, total   \n",
       "..                           ...          ...                ...   \n",
       "261                       Kosovo          XKX  Population, total   \n",
       "262                  Yemen, Rep.          YEM  Population, total   \n",
       "263                 South Africa          ZAF  Population, total   \n",
       "264                       Zambia          ZMB  Population, total   \n",
       "265                     Zimbabwe          ZWE  Population, total   \n",
       "\n",
       "    Indicator Code         1960         1961         1962         1963  \\\n",
       "0      SP.POP.TOTL      54208.0      55434.0      56234.0      56699.0   \n",
       "1      SP.POP.TOTL  130836765.0  134159786.0  137614644.0  141202036.0   \n",
       "2      SP.POP.TOTL    8996967.0    9169406.0    9351442.0    9543200.0   \n",
       "3      SP.POP.TOTL   96396419.0   98407221.0  100506960.0  102691339.0   \n",
       "4      SP.POP.TOTL    5454938.0    5531451.0    5608499.0    5679409.0   \n",
       "..             ...          ...          ...          ...          ...   \n",
       "261    SP.POP.TOTL     947000.0     966000.0     994000.0    1022000.0   \n",
       "262    SP.POP.TOTL    5315351.0    5393034.0    5473671.0    5556767.0   \n",
       "263    SP.POP.TOTL   17099836.0   17524533.0   17965733.0   18423157.0   \n",
       "264    SP.POP.TOTL    3070780.0    3164330.0    3260645.0    3360099.0   \n",
       "265    SP.POP.TOTL    3776679.0    3905038.0    4039209.0    4178726.0   \n",
       "\n",
       "            1964         1965  ...         2012         2013         2014  \\\n",
       "0        57029.0      57357.0  ...     102565.0     103165.0     103776.0   \n",
       "1    144920186.0  148769974.0  ...  547482863.0  562601578.0  578075373.0   \n",
       "2      9744772.0    9956318.0  ...   31161378.0   32269592.0   33370804.0   \n",
       "3    104953470.0  107289875.0  ...  370243017.0  380437896.0  390882979.0   \n",
       "4      5734995.0    5770573.0  ...   25107925.0   26015786.0   26941773.0   \n",
       "..           ...          ...  ...          ...          ...          ...   \n",
       "261    1050000.0    1078000.0  ...    1807106.0    1818117.0    1812771.0   \n",
       "262    5641598.0    5727745.0  ...   24473176.0   25147112.0   25823488.0   \n",
       "263   18896303.0   19384838.0  ...   52832659.0   53687125.0   54544184.0   \n",
       "264    3463211.0    3570466.0  ...   14465148.0   14926551.0   15399793.0   \n",
       "265    4322854.0    4471178.0  ...   13115149.0   13350378.0   13586710.0   \n",
       "\n",
       "            2015         2016         2017         2018         2019  \\\n",
       "0       104339.0     104865.0     105361.0     105846.0     106310.0   \n",
       "1    593871847.0  609978946.0  626392880.0  643090131.0  660046272.0   \n",
       "2     34413603.0   35383028.0   36296111.0   37171922.0   38041757.0   \n",
       "3    401586651.0  412551299.0  423769930.0  435229381.0  446911598.0   \n",
       "4     27884380.0   28842482.0   29816769.0   30809787.0   31825299.0   \n",
       "..           ...          ...          ...          ...          ...   \n",
       "261    1788196.0    1777557.0    1791003.0    1797085.0    1788878.0   \n",
       "262   26497881.0   27168210.0   27834811.0   28498683.0   29161922.0   \n",
       "263   55386369.0   56207649.0   57009751.0   57792520.0   58558267.0   \n",
       "264   15879370.0   16363449.0   16853608.0   17351714.0   17861034.0   \n",
       "265   13814642.0   14030338.0   14236599.0   14438812.0   14645473.0   \n",
       "\n",
       "            2020  Unnamed: 65  \n",
       "0       106766.0          NaN  \n",
       "1    677243299.0          NaN  \n",
       "2     38928341.0          NaN  \n",
       "3    458803476.0          NaN  \n",
       "4     32866268.0          NaN  \n",
       "..           ...          ...  \n",
       "261    1775378.0          NaN  \n",
       "262   29825968.0          NaN  \n",
       "263   59308690.0          NaN  \n",
       "264   18383956.0          NaN  \n",
       "265   14862927.0          NaN  \n",
       "\n",
       "[266 rows x 66 columns]"
      ]
     },
     "execution_count": 2,
     "metadata": {},
     "output_type": "execute_result"
    }
   ],
   "source": [
    "#path to GNP csv file\n",
    "population = os.path.join('input/wb_population_total.csv')\n",
    "\n",
    "#opening and converting the csv to a dataframe\n",
    "population_df = pd.read_csv(population, skiprows=[1,2,3], header=1)\n",
    "\n",
    "population_df"
   ]
  },
  {
   "cell_type": "code",
   "execution_count": 3,
   "metadata": {},
   "outputs": [],
   "source": [
    "#rename columns\n",
    "population = population_df.rename(columns={\"Country Name\": \"country\", \"Country Code\":\"country_code\"})"
   ]
  },
  {
   "cell_type": "code",
   "execution_count": 4,
   "metadata": {},
   "outputs": [],
   "source": [
    "# Dropping unecessary columns\n",
    "population_clean = population[[\"country\", \"country_code\",\"1960\",\"1961\",\"1962\",\"1963\",\"1964\",\"1965\",\"1966\",\"1967\",\"1968\",\n",
    "                         \"1969\",\"1970\",\"1971\",\"1972\",\"1973\",\"1974\",\"1975\",\"1976\",\"1977\",\"1978\",\"1979\",\"1980\",\"1981\",\n",
    "                         \"1982\",\"1983\",\"1984\",\"1985\",\"1986\",\"1987\",\"1988\",\"1989\",\"1990\",\"1991\",\"1992\",\"1993\",\"1994\"\n",
    "                        ,\"1995\",\"1996\",\"1997\",\"1998\",\"1999\",\"2000\",\"2001\",\"2002\",\"2003\",\"2004\",\"2005\",\"2006\",\"2007\"\n",
    "                        ,\"2008\",\"2009\",\"2010\",\"2011\",\"2012\",\"2013\",\"2014\",\"2015\",\"2016\",\"2017\",\"2018\",\"2019\",\"2020\"]]"
   ]
  },
  {
   "cell_type": "code",
   "execution_count": 5,
   "metadata": {},
   "outputs": [],
   "source": [
    "population_clean.to_csv(\"clean/population.csv\", index=False)"
   ]
  },
  {
   "cell_type": "markdown",
   "metadata": {},
   "source": [
    "## Health Expenditure"
   ]
  },
  {
   "cell_type": "code",
   "execution_count": 6,
   "metadata": {},
   "outputs": [],
   "source": [
    "#path to GNP csv file\n",
    "health_expenditure = os.path.join('input/wb_current_health_expenditure_per_capita.csv')\n",
    "\n",
    "#opening and converting the csv to a dataframe\n",
    "health_df = pd.read_csv(health_expenditure, skiprows=[1,2,3], header=1)\n"
   ]
  },
  {
   "cell_type": "code",
   "execution_count": 7,
   "metadata": {},
   "outputs": [],
   "source": [
    "#rename columns\n",
    "health = health_df.rename(columns={\"Country Name\": \"country\", \"Country Code\":\"country_code\"})"
   ]
  },
  {
   "cell_type": "code",
   "execution_count": 8,
   "metadata": {},
   "outputs": [],
   "source": [
    "# Dropping unecessary columns\n",
    "health_clean = health[[\"country\", \"country_code\",\"2000\",\"2001\",\"2002\",\"2003\",\"2004\",\"2005\",\"2006\",\"2007\"\n",
    "                        ,\"2008\",\"2009\",\"2010\",\"2011\",\"2012\",\"2013\",\"2014\",\"2015\",\"2016\",\"2017\",\"2018\"]]"
   ]
  },
  {
   "cell_type": "code",
   "execution_count": 9,
   "metadata": {},
   "outputs": [],
   "source": [
    "health_clean.to_csv(\"clean/health_expenditure.csv\", index=False)"
   ]
  },
  {
   "cell_type": "markdown",
   "metadata": {},
   "source": [
    "## Birth Rate"
   ]
  },
  {
   "cell_type": "code",
   "execution_count": 10,
   "metadata": {},
   "outputs": [],
   "source": [
    "#path to GNP csv file\n",
    "birth_rate = os.path.join('input/wb_birth_rate_per_1k.csv')\n",
    "\n",
    "#opening and converting the csv to a dataframe\n",
    "birth_rate = pd.read_csv(birth_rate, skiprows=[1,2,3], header=1)\n"
   ]
  },
  {
   "cell_type": "code",
   "execution_count": 11,
   "metadata": {},
   "outputs": [],
   "source": [
    "#rename columns\n",
    "birth_rate = birth_rate.rename(columns={\"Country Name\": \"country\", \"Country Code\":\"country_code\"})"
   ]
  },
  {
   "cell_type": "code",
   "execution_count": 12,
   "metadata": {},
   "outputs": [],
   "source": [
    "birth_rate_clean = birth_rate[[\"country\", \"country_code\",\"1960\",\"1961\",\"1962\",\"1963\",\"1964\",\"1965\",\"1966\",\"1967\",\"1968\",\n",
    "                         \"1969\",\"1970\",\"1971\",\"1972\",\"1973\",\"1974\",\"1975\",\"1976\",\"1977\",\"1978\",\"1979\",\"1980\",\"1981\",\n",
    "                         \"1982\",\"1983\",\"1984\",\"1985\",\"1986\",\"1987\",\"1988\",\"1989\",\"1990\",\"1991\",\"1992\",\"1993\",\"1994\"\n",
    "                        ,\"1995\",\"1996\",\"1997\",\"1998\",\"1999\",\"2000\",\"2001\",\"2002\",\"2003\",\"2004\",\"2005\",\"2006\",\"2007\"\n",
    "                        ,\"2008\",\"2009\",\"2010\",\"2011\",\"2012\",\"2013\",\"2014\",\"2015\",\"2016\",\"2017\",\"2018\",\"2019\"]]"
   ]
  },
  {
   "cell_type": "code",
   "execution_count": 13,
   "metadata": {},
   "outputs": [],
   "source": [
    "birth_rate_clean.to_csv(\"clean/birth_rate.csv\", index=False)"
   ]
  },
  {
   "cell_type": "markdown",
   "metadata": {},
   "source": [
    "## Death Rate"
   ]
  },
  {
   "cell_type": "code",
   "execution_count": 14,
   "metadata": {},
   "outputs": [],
   "source": [
    "#path to GNP csv file\n",
    "death_rate = os.path.join('input/wb_death_rate_per_1k.csv')\n",
    "\n",
    "#opening and converting the csv to a dataframe\n",
    "death_rate = pd.read_csv(death_rate, skiprows=[1,2,3], header=1)"
   ]
  },
  {
   "cell_type": "code",
   "execution_count": 15,
   "metadata": {},
   "outputs": [],
   "source": [
    "#rename columns\n",
    "death_rate = death_rate.rename(columns={\"Country Name\": \"country\", \"Country Code\":\"country_code\"})"
   ]
  },
  {
   "cell_type": "code",
   "execution_count": 16,
   "metadata": {},
   "outputs": [],
   "source": [
    "death_rate = death_rate[[\"country\", \"country_code\",\"1960\",\"1961\",\"1962\",\"1963\",\"1964\",\"1965\",\"1966\",\"1967\",\"1968\",\n",
    "                         \"1969\",\"1970\",\"1971\",\"1972\",\"1973\",\"1974\",\"1975\",\"1976\",\"1977\",\"1978\",\"1979\",\"1980\",\"1981\",\n",
    "                         \"1982\",\"1983\",\"1984\",\"1985\",\"1986\",\"1987\",\"1988\",\"1989\",\"1990\",\"1991\",\"1992\",\"1993\",\"1994\"\n",
    "                        ,\"1995\",\"1996\",\"1997\",\"1998\",\"1999\",\"2000\",\"2001\",\"2002\",\"2003\",\"2004\",\"2005\",\"2006\",\"2007\"\n",
    "                        ,\"2008\",\"2009\",\"2010\",\"2011\",\"2012\",\"2013\",\"2014\",\"2015\",\"2016\",\"2017\",\"2018\",\"2019\"]]"
   ]
  },
  {
   "cell_type": "code",
   "execution_count": 17,
   "metadata": {},
   "outputs": [],
   "source": [
    "death_rate.to_csv(\"clean/death_rate.csv\", index=False)"
   ]
  },
  {
   "cell_type": "markdown",
   "metadata": {},
   "source": [
    "## GDP Per Capita"
   ]
  },
  {
   "cell_type": "code",
   "execution_count": 18,
   "metadata": {},
   "outputs": [],
   "source": [
    "#path to GNP csv file\n",
    "gdp_per_capita = os.path.join('input/wb_gdp_per_capita.csv')\n",
    "\n",
    "#opening and converting the csv to a dataframe\n",
    "gdp_per_capita = pd.read_csv(gdp_per_capita, skiprows=[1,2,3], header=1)"
   ]
  },
  {
   "cell_type": "code",
   "execution_count": 19,
   "metadata": {},
   "outputs": [],
   "source": [
    "#rename columns\n",
    "gdp_per_capita = gdp_per_capita.rename(columns={\"Country Name\": \"country\", \"Country Code\":\"country_code\"})"
   ]
  },
  {
   "cell_type": "code",
   "execution_count": 20,
   "metadata": {},
   "outputs": [],
   "source": [
    "gdp_per_capita = gdp_per_capita[[\"country\", \"country_code\",\"1960\",\"1961\",\"1962\",\"1963\",\"1964\",\"1965\",\"1966\",\"1967\",\"1968\",\n",
    "                         \"1969\",\"1970\",\"1971\",\"1972\",\"1973\",\"1974\",\"1975\",\"1976\",\"1977\",\"1978\",\"1979\",\"1980\",\"1981\",\n",
    "                         \"1982\",\"1983\",\"1984\",\"1985\",\"1986\",\"1987\",\"1988\",\"1989\",\"1990\",\"1991\",\"1992\",\"1993\",\"1994\"\n",
    "                        ,\"1995\",\"1996\",\"1997\",\"1998\",\"1999\",\"2000\",\"2001\",\"2002\",\"2003\",\"2004\",\"2005\",\"2006\",\"2007\"\n",
    "                        ,\"2008\",\"2009\",\"2010\",\"2011\",\"2012\",\"2013\",\"2014\",\"2015\",\"2016\",\"2017\",\"2018\",\"2019\", \"2020\"]]"
   ]
  },
  {
   "cell_type": "code",
   "execution_count": 21,
   "metadata": {},
   "outputs": [],
   "source": [
    "gdp_per_capita.to_csv(\"clean/gdp_per_capita.csv\", index=True)"
   ]
  },
  {
   "cell_type": "markdown",
   "metadata": {},
   "source": [
    "## Income Per Capita"
   ]
  },
  {
   "cell_type": "code",
   "execution_count": 22,
   "metadata": {},
   "outputs": [],
   "source": [
    "#path to GNP csv file\n",
    "income_per_capita = os.path.join('input/wb_income_per_capita.csv')\n",
    "\n",
    "#opening and converting the csv to a dataframe\n",
    "income_per_capita = pd.read_csv(income_per_capita, skiprows=[1,2,3], header=1)"
   ]
  },
  {
   "cell_type": "code",
   "execution_count": 23,
   "metadata": {},
   "outputs": [],
   "source": [
    "#rename columns\n",
    "income_per_capita = income_per_capita.rename(columns={\"Country Name\": \"country\", \"Country Code\":\"country_code\"})"
   ]
  },
  {
   "cell_type": "code",
   "execution_count": 24,
   "metadata": {},
   "outputs": [],
   "source": [
    "income_per_capita = income_per_capita[[\"country\", \"country_code\",\"1970\",\"1971\",\"1972\",\"1973\",\"1974\",\"1975\",\"1976\",\"1977\",\"1978\",\"1979\",\"1980\",\"1981\",\n",
    "                         \"1982\",\"1983\",\"1984\",\"1985\",\"1986\",\"1987\",\"1988\",\"1989\",\"1990\",\"1991\",\"1992\",\"1993\",\"1994\"\n",
    "                        ,\"1995\",\"1996\",\"1997\",\"1998\",\"1999\",\"2000\",\"2001\",\"2002\",\"2003\",\"2004\",\"2005\",\"2006\",\"2007\"\n",
    "                        ,\"2008\",\"2009\",\"2010\",\"2011\",\"2012\",\"2013\",\"2014\",\"2015\",\"2016\",\"2017\",\"2018\",\"2019\"]]"
   ]
  },
  {
   "cell_type": "code",
   "execution_count": 25,
   "metadata": {},
   "outputs": [],
   "source": [
    "income_per_capita.to_csv(\"clean/income_per_capita.csv\", index=False)"
   ]
  },
  {
   "cell_type": "markdown",
   "metadata": {},
   "source": [
    "## Health Expenditure PCT"
   ]
  },
  {
   "cell_type": "code",
   "execution_count": 26,
   "metadata": {},
   "outputs": [],
   "source": [
    "#path to GNP csv file\n",
    "expenditure_pct = os.path.join('input/wb_health_expenditure_pct.csv')\n",
    "\n",
    "#opening and converting the csv to a dataframe\n",
    "expenditure_pct = pd.read_csv(expenditure_pct, skiprows=[1,2,3], header=1)"
   ]
  },
  {
   "cell_type": "code",
   "execution_count": 27,
   "metadata": {},
   "outputs": [],
   "source": [
    "#rename columns\n",
    "expenditure_pct = expenditure_pct.rename(columns={\"Country Name\": \"country\", \"Country Code\":\"country_code\"})"
   ]
  },
  {
   "cell_type": "code",
   "execution_count": 28,
   "metadata": {},
   "outputs": [],
   "source": [
    "expenditure_pct = expenditure_pct[[\"country\", \"country_code\",\"2000\",\"2001\",\"2002\",\"2003\",\"2004\",\"2005\",\"2006\",\"2007\"\n",
    "                        ,\"2008\",\"2009\",\"2010\",\"2011\",\"2012\",\"2013\",\"2014\",\"2015\",\"2016\",\"2017\",\"2018\"]]"
   ]
  },
  {
   "cell_type": "code",
   "execution_count": 29,
   "metadata": {},
   "outputs": [],
   "source": [
    "expenditure_pct.to_csv(\"clean/expenditure_pct.csv\", index=False)"
   ]
  },
  {
   "cell_type": "markdown",
   "metadata": {},
   "source": [
    "## Suicide Rates"
   ]
  },
  {
   "cell_type": "code",
   "execution_count": 30,
   "metadata": {},
   "outputs": [],
   "source": [
    "#path to GNP csv file\n",
    "suicide_rates = os.path.join('input/wb_suicide_rate_per_100k.csv')\n",
    "\n",
    "#opening and converting the csv to a dataframe\n",
    "suicide_rates = pd.read_csv(suicide_rates, skiprows=[1,2,3], header=1)"
   ]
  },
  {
   "cell_type": "code",
   "execution_count": 31,
   "metadata": {},
   "outputs": [],
   "source": [
    "#rename columns\n",
    "suicide_rates = suicide_rates.rename(columns={\"Country Name\": \"country\", \"Country Code\":\"country_code\"})"
   ]
  },
  {
   "cell_type": "code",
   "execution_count": 32,
   "metadata": {},
   "outputs": [],
   "source": [
    "suicide_rates = suicide_rates[[\"country\", \"country_code\",\"2000\",\"2001\",\"2002\",\"2003\",\"2004\",\"2005\",\"2006\",\"2007\"\n",
    "                        ,\"2008\",\"2009\",\"2010\",\"2011\",\"2012\",\"2013\",\"2014\",\"2015\",\"2016\",\"2017\",\"2018\",\"2019\"]]"
   ]
  },
  {
   "cell_type": "code",
   "execution_count": 33,
   "metadata": {},
   "outputs": [],
   "source": [
    "suicide_rates.to_csv(\"clean/suicide_rates.csv\", index=False)"
   ]
  },
  {
   "cell_type": "markdown",
   "metadata": {},
   "source": [
    "## Unemployment"
   ]
  },
  {
   "cell_type": "code",
   "execution_count": 34,
   "metadata": {},
   "outputs": [],
   "source": [
    "#path to GNP csv file\n",
    "unemployment_pct = os.path.join('input/wb_unemployment_pct.csv')\n",
    "\n",
    "#opening and converting the csv to a dataframe\n",
    "unemployment_pct = pd.read_csv(unemployment_pct, skiprows=[1,2,3], header=1)"
   ]
  },
  {
   "cell_type": "code",
   "execution_count": 35,
   "metadata": {},
   "outputs": [],
   "source": [
    "#rename columns\n",
    "unemployment_pct = unemployment_pct.rename(columns={\"Country Name\": \"country\", \"Country Code\":\"country_code\"})"
   ]
  },
  {
   "cell_type": "code",
   "execution_count": 36,
   "metadata": {},
   "outputs": [],
   "source": [
    "unemployment_pct = unemployment_pct[[\"country\", \"country_code\",\"1991\",\"1992\",\"1993\",\"1994\"\n",
    "                        ,\"1995\",\"1996\",\"1997\",\"1998\",\"1999\",\"2000\",\"2001\",\"2002\",\"2003\",\"2004\",\"2005\",\"2006\",\"2007\"\n",
    "                        ,\"2008\",\"2009\",\"2010\",\"2011\",\"2012\",\"2013\",\"2014\",\"2015\",\"2016\",\"2017\",\"2018\",\"2019\", \"2020\"]]"
   ]
  },
  {
   "cell_type": "code",
   "execution_count": 37,
   "metadata": {},
   "outputs": [],
   "source": [
    "unemployment_pct.to_csv(\"clean/unemployment_pct.csv\", index=False)"
   ]
  },
  {
   "cell_type": "code",
   "execution_count": null,
   "metadata": {},
   "outputs": [],
   "source": []
  }
 ],
 "metadata": {
  "kernelspec": {
   "display_name": "Python 3",
   "language": "python",
   "name": "python3"
  },
  "language_info": {
   "codemirror_mode": {
    "name": "ipython",
    "version": 3
   },
   "file_extension": ".py",
   "mimetype": "text/x-python",
   "name": "python",
   "nbconvert_exporter": "python",
   "pygments_lexer": "ipython3",
   "version": "3.6.10"
  }
 },
 "nbformat": 4,
 "nbformat_minor": 4
}
