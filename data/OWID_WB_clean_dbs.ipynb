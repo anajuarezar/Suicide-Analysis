{
 "cells": [
  {
   "cell_type": "markdown",
   "metadata": {},
   "source": [
    "## Joining databases"
   ]
  },
  {
   "cell_type": "code",
   "execution_count": null,
   "metadata": {},
   "outputs": [],
   "source": [
    "#Importing libraries\n",
    "import csv\n",
    "import os\n",
    "import pandas as pd\n",
    "from functools import reduce"
   ]
  },
  {
   "cell_type": "code",
   "execution_count": null,
   "metadata": {},
   "outputs": [],
   "source": [
    "# Set CSV input file path\n",
    "suicide_path = os.path.join('clean/extract_owid_suicide_rate_1990.csv')\n",
    "# Read CSV to DataFrame\n",
    "suicide_df = pd.read_csv(suicide_path)"
   ]
  },
  {
   "cell_type": "code",
   "execution_count": null,
   "metadata": {},
   "outputs": [],
   "source": [
    "suicide_russia = suicide_df.loc[(suicide_df[\"country\"]== \"Russia\")]"
   ]
  },
  {
   "cell_type": "code",
   "execution_count": null,
   "metadata": {},
   "outputs": [],
   "source": [
    "# Set CSV input file path\n",
    "mental_path = os.path.join('clean/extract_owid_mental_and_disorders.csv')\n",
    "# Read CSV to DataFrame\n",
    "mental_df = pd.read_csv(mental_path)"
   ]
  },
  {
   "cell_type": "code",
   "execution_count": null,
   "metadata": {},
   "outputs": [],
   "source": [
    "mental_russia = mental_df.loc[(mental_df[\"country\"]== \"Russia\")]"
   ]
  },
  {
   "cell_type": "code",
   "execution_count": null,
   "metadata": {},
   "outputs": [],
   "source": [
    "# Set CSV input file path\n",
    "life_path = os.path.join('clean/extract_owid_life_expectancy.csv')\n",
    "# Read CSV to DataFrame\n",
    "life_df = pd.read_csv(life_path)"
   ]
  },
  {
   "cell_type": "code",
   "execution_count": null,
   "metadata": {},
   "outputs": [],
   "source": [
    "life_russia = life_df.loc[(life_df[\"country\"]== \"Russia\")]"
   ]
  },
  {
   "cell_type": "code",
   "execution_count": null,
   "metadata": {},
   "outputs": [],
   "source": [
    "# Set CSV input file path\n",
    "wb_db = os.path.join('clean/extract_all.csv')\n",
    "# Read CSV to DataFrame\n",
    "wb = pd.read_csv(wb_db)"
   ]
  },
  {
   "cell_type": "code",
   "execution_count": null,
   "metadata": {},
   "outputs": [],
   "source": [
    "country_search = wb.loc[(wb[\"country\"]== \"Russian Federation\")]\n"
   ]
  },
  {
   "cell_type": "code",
   "execution_count": null,
   "metadata": {},
   "outputs": [],
   "source": [
    "df_join_a = pd.merge(suicide_df, mental_df, on='country_year', how='inner')\n",
    "df_join_b = pd.merge(life_df,wb, on='country_year', how='inner')"
   ]
  },
  {
   "cell_type": "code",
   "execution_count": null,
   "metadata": {},
   "outputs": [],
   "source": [
    "russia_search_join_one = df_join_a.loc[(df_join_a[\"country_x\"]== \"Russia\")]\n",
    "russia_search_join_one.head()"
   ]
  },
  {
   "cell_type": "code",
   "execution_count": null,
   "metadata": {},
   "outputs": [],
   "source": [
    "russia_search_join_two = df_join_b.loc[(df_join_b[\"country_y\"]== \"Russia\")]\n",
    "russia_search_join_two.head()"
   ]
  },
  {
   "cell_type": "code",
   "execution_count": null,
   "metadata": {},
   "outputs": [],
   "source": [
    "df_join_c =  pd.merge(df_join_a,df_join_b, on='country_year', how='inner')"
   ]
  },
  {
   "cell_type": "code",
   "execution_count": null,
   "metadata": {},
   "outputs": [],
   "source": [
    "df_join_c.head()"
   ]
  },
  {
   "cell_type": "code",
   "execution_count": null,
   "metadata": {},
   "outputs": [],
   "source": [
    "df = df_join_c[[\"country_y_y\", \n",
    "                \"year_y_y\", \n",
    "                \"country_year\", \n",
    "                \"suicide_rate_owid\",\n",
    "                \"mental_substance_disorders\",\n",
    "                \"life_expectancy\", \n",
    "                \"birth_rate\",\n",
    "                \"death_rate\",\n",
    "                \"gdp\",\n",
    "                \"health_pct\", \n",
    "                \"population\",\n",
    "                \"unemployment\"\n",
    "               ]]"
   ]
  },
  {
   "cell_type": "code",
   "execution_count": null,
   "metadata": {},
   "outputs": [],
   "source": [
    "#rename columns\n",
    "db_complete = df.rename(columns={\"country_y_y\": \"country\", \"year_y_y\":\"year\"})"
   ]
  },
  {
   "cell_type": "code",
   "execution_count": null,
   "metadata": {},
   "outputs": [],
   "source": [
    "joined_russia = db_complete.loc[(db_complete[\"country\"]== \"Russia\")]\n",
    "joined_russia.head()"
   ]
  },
  {
   "cell_type": "code",
   "execution_count": null,
   "metadata": {},
   "outputs": [],
   "source": [
    "#Counting countries\n",
    "db_complete[\"country\"].nunique()"
   ]
  },
  {
   "cell_type": "code",
   "execution_count": null,
   "metadata": {},
   "outputs": [],
   "source": [
    "db_complete[\"country\"].unique()"
   ]
  },
  {
   "cell_type": "code",
   "execution_count": null,
   "metadata": {},
   "outputs": [],
   "source": [
    "db_complete.to_csv(\"clean/extract_owid_and_wb.csv\", index=False)"
   ]
  },
  {
   "cell_type": "markdown",
   "metadata": {},
   "source": [
    "## Merge with other dbs\n"
   ]
  },
  {
   "cell_type": "code",
   "execution_count": null,
   "metadata": {},
   "outputs": [],
   "source": [
    "# Set CSV input file path\n",
    "activity_path = os.path.join('clean/extract_insufficient_activity.csv')\n",
    "# Read CSV to DataFrame\n",
    "activity_df = pd.read_csv(activity_path)\n",
    "activity_df.head()\n"
   ]
  },
  {
   "cell_type": "code",
   "execution_count": null,
   "metadata": {},
   "outputs": [],
   "source": [
    "russianFed = activity_df.loc[(activity_df[\"country\"]== \"Russian Federation\")]\n",
    "russianFed.head()"
   ]
  },
  {
   "cell_type": "code",
   "execution_count": null,
   "metadata": {},
   "outputs": [],
   "source": [
    "# Set CSV input file path\n",
    "alcohol_path = os.path.join('clean/extract_alcohol.csv')\n",
    "# Read CSV to DataFrame\n",
    "alcohol_df = pd.read_csv(alcohol_path)\n",
    "alcohol_df.head()"
   ]
  },
  {
   "cell_type": "code",
   "execution_count": null,
   "metadata": {},
   "outputs": [],
   "source": [
    "# Set CSV input file path\n",
    "homicide_path = os.path.join('clean/extract_homicide_rate.csv')\n",
    "# Read CSV to DataFrame\n",
    "homicide_df = pd.read_csv(homicide_path)\n",
    "homicide_df.head()"
   ]
  },
  {
   "cell_type": "code",
   "execution_count": null,
   "metadata": {},
   "outputs": [],
   "source": [
    "df_join_d =  pd.merge(activity_df,alcohol_df, on='country_year', how='inner')\n",
    "df_join_d.head()"
   ]
  },
  {
   "cell_type": "code",
   "execution_count": null,
   "metadata": {},
   "outputs": [],
   "source": [
    "df_join_d[\"country_x\"].nunique()"
   ]
  },
  {
   "cell_type": "code",
   "execution_count": null,
   "metadata": {},
   "outputs": [],
   "source": [
    "df_f = df_join_d[[\"country_x\", \n",
    "                \"year_x\", \n",
    "                \"country_year\", \n",
    "                \"insufficient_activity\",\n",
    "                \"alcohol_consumption\"\n",
    "               ]]\n",
    "\n",
    "df_f.head()"
   ]
  },
  {
   "cell_type": "code",
   "execution_count": null,
   "metadata": {},
   "outputs": [],
   "source": [
    "df_join_e[\"country_x\"].nunique()"
   ]
  },
  {
   "cell_type": "code",
   "execution_count": null,
   "metadata": {},
   "outputs": [],
   "source": [
    "df_g = df_join_e[[\"country_x\", \n",
    "                \"year_x\", \n",
    "                \"country_year\", \n",
    "                \"insufficient_activity\",\n",
    "                \"homicide_rate\",\n",
    "                 \"alcohol_consumption\"\n",
    "               ]]\n",
    "\n",
    "df_g.head()"
   ]
  },
  {
   "cell_type": "code",
   "execution_count": null,
   "metadata": {},
   "outputs": [],
   "source": [
    "df_g[\"country_x\"].nunique()"
   ]
  },
  {
   "cell_type": "code",
   "execution_count": null,
   "metadata": {},
   "outputs": [],
   "source": [
    "df_join_total =  pd.merge(df_g,db_complete, on='country_year', how='inner')\n",
    "df_join_total.head()"
   ]
  },
  {
   "cell_type": "code",
   "execution_count": null,
   "metadata": {},
   "outputs": [],
   "source": [
    "final = df_join_total[[\"country\", \n",
    "                \"year\", \n",
    "                \"country_year\", \n",
    "                \"insufficient_activity\",\n",
    "                \"homicide_rate\",\n",
    "                \"alcohol_consumption\",\n",
    "                \"suicide_rate_owid\",\n",
    "                \"mental_substance_disorders\",\n",
    "                \"life_expectancy\",\n",
    "                \"birth_rate\",\n",
    "                \"death_rate\",\n",
    "                 \"gdp\",\n",
    "                 \"health_pct\",\n",
    "                 \"population\",\n",
    "                \"unemployment\"\n",
    "                       ]]\n",
    "\n",
    "final.head()"
   ]
  },
  {
   "cell_type": "code",
   "execution_count": null,
   "metadata": {},
   "outputs": [],
   "source": [
    "final[\"country\"].unique()"
   ]
  },
  {
   "cell_type": "code",
   "execution_count": null,
   "metadata": {},
   "outputs": [],
   "source": []
  }
 ],
 "metadata": {
  "kernelspec": {
   "display_name": "Python 3",
   "language": "python",
   "name": "python3"
  },
  "language_info": {
   "codemirror_mode": {
    "name": "ipython",
    "version": 3
   },
   "file_extension": ".py",
   "mimetype": "text/x-python",
   "name": "python",
   "nbconvert_exporter": "python",
   "pygments_lexer": "ipython3",
   "version": "3.8.8"
  }
 },
 "nbformat": 4,
 "nbformat_minor": 4
}
