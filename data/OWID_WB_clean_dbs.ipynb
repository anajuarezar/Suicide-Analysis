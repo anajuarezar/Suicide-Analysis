{
 "cells": [
  {
   "cell_type": "markdown",
   "metadata": {},
   "source": [
    "## Joining 3 databases"
   ]
  },
  {
   "cell_type": "code",
   "execution_count": 1,
   "metadata": {},
   "outputs": [],
   "source": [
    "#Importing libraries\n",
    "import csv\n",
    "import os\n",
    "import pandas as pd\n",
    "from functools import reduce"
   ]
  },
  {
   "cell_type": "code",
   "execution_count": 2,
   "metadata": {},
   "outputs": [],
   "source": [
    "# Set CSV input file path\n",
    "suicide_path = os.path.join('clean/extract_owid_suicide_rate_1990.csv')\n",
    "# Read CSV to DataFrame\n",
    "suicide_df = pd.read_csv(suicide_path)"
   ]
  },
  {
   "cell_type": "code",
   "execution_count": 3,
   "metadata": {},
   "outputs": [],
   "source": [
    "# Set CSV input file path\n",
    "mental_path = os.path.join('clean/extract_owid_mental_and_disorders.csv')\n",
    "# Read CSV to DataFrame\n",
    "mental_df = pd.read_csv(mental_path)"
   ]
  },
  {
   "cell_type": "code",
   "execution_count": 4,
   "metadata": {},
   "outputs": [],
   "source": [
    "# Set CSV input file path\n",
    "life_path = os.path.join('clean/extract_owid_life_expectancy.csv')\n",
    "# Read CSV to DataFrame\n",
    "life_df = pd.read_csv(life_path)"
   ]
  },
  {
   "cell_type": "code",
   "execution_count": 5,
   "metadata": {},
   "outputs": [],
   "source": [
    "# Set CSV input file path\n",
    "wb_db = os.path.join('clean/extract_all.csv')\n",
    "# Read CSV to DataFrame\n",
    "wb = pd.read_csv(wb_db)"
   ]
  },
  {
   "cell_type": "code",
   "execution_count": 6,
   "metadata": {},
   "outputs": [],
   "source": [
    "data_frames = [suicide_df, mental_df, life_df,wb]\n",
    "df_merged = reduce(lambda  left,right: pd.merge(left,right,on=['country_year'],\n",
    "                                            how='inner'), data_frames)\n",
    "\n"
   ]
  },
  {
   "cell_type": "code",
   "execution_count": 15,
   "metadata": {},
   "outputs": [],
   "source": [
    "df_join_a = pd.merge(suicide_df, mental_df, on='country_year', how='inner')\n",
    "df_join_b = pd.merge(life_df,wb, on='country_year', how='inner')"
   ]
  },
  {
   "cell_type": "code",
   "execution_count": 17,
   "metadata": {},
   "outputs": [],
   "source": [
    "df_join_c =  pd.merge(df_join_a,df_join_b, on='country_year', how='inner')"
   ]
  },
  {
   "cell_type": "code",
   "execution_count": 19,
   "metadata": {},
   "outputs": [
    {
     "name": "stdout",
     "output_type": "stream",
     "text": [
      "Index(['country_x_x', 'year_x_x', 'suicide_rate_owid', 'country_year',\n",
      "       'country_y_x', 'year_y_x', 'mental_substance_disorders', 'country_x_y',\n",
      "       'year_x_y', 'life_expectancy', 'country_y_y', 'year_y_y', 'birth_rate',\n",
      "       'health', 'death_rate', 'gdp', 'health_pct', 'income', 'population',\n",
      "       'suicide_rate', 'unemployment'],\n",
      "      dtype='object')\n"
     ]
    }
   ],
   "source": [
    "print(df_join_c.columns)"
   ]
  },
  {
   "cell_type": "code",
   "execution_count": 10,
   "metadata": {},
   "outputs": [
    {
     "name": "stdout",
     "output_type": "stream",
     "text": [
      "Index(['country_x', 'year_x', 'suicide_rate_owid', 'country_year', 'country_y',\n",
      "       'year_y', 'mental_substance_disorders', 'country_x', 'year_x',\n",
      "       'life_expectancy', 'country_y', 'year_y', 'birth_rate', 'health',\n",
      "       'death_rate', 'gdp', 'health_pct', 'income', 'population',\n",
      "       'suicide_rate', 'unemployment'],\n",
      "      dtype='object')\n"
     ]
    }
   ],
   "source": [
    "print(df_merged.columns)"
   ]
  },
  {
   "cell_type": "code",
   "execution_count": 23,
   "metadata": {},
   "outputs": [],
   "source": [
    "df = df_join_c[[\"country_y_y\", \n",
    "                \"year_y_y\", \n",
    "                \"country_year\", \n",
    "                \"suicide_rate_owid\",\n",
    "                \"suicide_rate\",\n",
    "                \"mental_substance_disorders\",\n",
    "                \"life_expectancy\", \n",
    "                \"birth_rate\",\n",
    "                \"health\",\n",
    "                \"death_rate\",\n",
    "                \"gdp\",\n",
    "                \"health_pct\", \n",
    "                \"income\",\n",
    "                \"population\",\n",
    "                \"unemployment\"\n",
    "               ]]"
   ]
  },
  {
   "cell_type": "code",
   "execution_count": 25,
   "metadata": {},
   "outputs": [],
   "source": [
    "#rename columns\n",
    "db_complete = df.rename(columns={\"country_y_y\": \"country\", \"year_y_y\":\"year\", \"country_year\":\"country_code\"})"
   ]
  },
  {
   "cell_type": "code",
   "execution_count": 26,
   "metadata": {},
   "outputs": [
    {
     "data": {
      "text/plain": [
       "171"
      ]
     },
     "execution_count": 26,
     "metadata": {},
     "output_type": "execute_result"
    }
   ],
   "source": [
    "#Counting countries\n",
    "db_complete[\"country\"].nunique()"
   ]
  },
  {
   "cell_type": "code",
   "execution_count": 27,
   "metadata": {},
   "outputs": [
    {
     "data": {
      "text/html": [
       "<div>\n",
       "<style scoped>\n",
       "    .dataframe tbody tr th:only-of-type {\n",
       "        vertical-align: middle;\n",
       "    }\n",
       "\n",
       "    .dataframe tbody tr th {\n",
       "        vertical-align: top;\n",
       "    }\n",
       "\n",
       "    .dataframe thead th {\n",
       "        text-align: right;\n",
       "    }\n",
       "</style>\n",
       "<table border=\"1\" class=\"dataframe\">\n",
       "  <thead>\n",
       "    <tr style=\"text-align: right;\">\n",
       "      <th></th>\n",
       "      <th>country</th>\n",
       "      <th>year</th>\n",
       "      <th>country_code</th>\n",
       "      <th>suicide_rate_owid</th>\n",
       "      <th>suicide_rate</th>\n",
       "      <th>mental_substance_disorders</th>\n",
       "      <th>life_expectancy</th>\n",
       "      <th>birth_rate</th>\n",
       "      <th>health</th>\n",
       "      <th>death_rate</th>\n",
       "      <th>gdp</th>\n",
       "      <th>health_pct</th>\n",
       "      <th>income</th>\n",
       "      <th>population</th>\n",
       "      <th>unemployment</th>\n",
       "    </tr>\n",
       "  </thead>\n",
       "  <tbody>\n",
       "    <tr>\n",
       "      <th>0</th>\n",
       "      <td>Afghanistan</td>\n",
       "      <td>1990</td>\n",
       "      <td>Afghanistan-1990</td>\n",
       "      <td>10.318504</td>\n",
       "      <td>NaN</td>\n",
       "      <td>17.553463</td>\n",
       "      <td>50.331</td>\n",
       "      <td>48.880</td>\n",
       "      <td>NaN</td>\n",
       "      <td>15.241</td>\n",
       "      <td>NaN</td>\n",
       "      <td>NaN</td>\n",
       "      <td>NaN</td>\n",
       "      <td>12412311.0</td>\n",
       "      <td>NaN</td>\n",
       "    </tr>\n",
       "    <tr>\n",
       "      <th>1</th>\n",
       "      <td>Afghanistan</td>\n",
       "      <td>1991</td>\n",
       "      <td>Afghanistan-1991</td>\n",
       "      <td>10.327010</td>\n",
       "      <td>NaN</td>\n",
       "      <td>17.837032</td>\n",
       "      <td>50.999</td>\n",
       "      <td>48.763</td>\n",
       "      <td>NaN</td>\n",
       "      <td>14.783</td>\n",
       "      <td>NaN</td>\n",
       "      <td>NaN</td>\n",
       "      <td>NaN</td>\n",
       "      <td>13299016.0</td>\n",
       "      <td>11.38</td>\n",
       "    </tr>\n",
       "    <tr>\n",
       "      <th>2</th>\n",
       "      <td>Afghanistan</td>\n",
       "      <td>1992</td>\n",
       "      <td>Afghanistan-1992</td>\n",
       "      <td>10.271411</td>\n",
       "      <td>NaN</td>\n",
       "      <td>18.092542</td>\n",
       "      <td>51.641</td>\n",
       "      <td>48.709</td>\n",
       "      <td>NaN</td>\n",
       "      <td>14.362</td>\n",
       "      <td>NaN</td>\n",
       "      <td>NaN</td>\n",
       "      <td>NaN</td>\n",
       "      <td>14485543.0</td>\n",
       "      <td>11.46</td>\n",
       "    </tr>\n",
       "    <tr>\n",
       "      <th>3</th>\n",
       "      <td>Afghanistan</td>\n",
       "      <td>1993</td>\n",
       "      <td>Afghanistan-1993</td>\n",
       "      <td>10.376123</td>\n",
       "      <td>NaN</td>\n",
       "      <td>18.294931</td>\n",
       "      <td>52.256</td>\n",
       "      <td>48.717</td>\n",
       "      <td>NaN</td>\n",
       "      <td>13.974</td>\n",
       "      <td>NaN</td>\n",
       "      <td>NaN</td>\n",
       "      <td>NaN</td>\n",
       "      <td>15816601.0</td>\n",
       "      <td>11.61</td>\n",
       "    </tr>\n",
       "    <tr>\n",
       "      <th>4</th>\n",
       "      <td>Afghanistan</td>\n",
       "      <td>1994</td>\n",
       "      <td>Afghanistan-1994</td>\n",
       "      <td>10.575915</td>\n",
       "      <td>NaN</td>\n",
       "      <td>18.428908</td>\n",
       "      <td>52.842</td>\n",
       "      <td>48.770</td>\n",
       "      <td>NaN</td>\n",
       "      <td>13.616</td>\n",
       "      <td>NaN</td>\n",
       "      <td>NaN</td>\n",
       "      <td>NaN</td>\n",
       "      <td>17075728.0</td>\n",
       "      <td>11.65</td>\n",
       "    </tr>\n",
       "    <tr>\n",
       "      <th>...</th>\n",
       "      <td>...</td>\n",
       "      <td>...</td>\n",
       "      <td>...</td>\n",
       "      <td>...</td>\n",
       "      <td>...</td>\n",
       "      <td>...</td>\n",
       "      <td>...</td>\n",
       "      <td>...</td>\n",
       "      <td>...</td>\n",
       "      <td>...</td>\n",
       "      <td>...</td>\n",
       "      <td>...</td>\n",
       "      <td>...</td>\n",
       "      <td>...</td>\n",
       "      <td>...</td>\n",
       "    </tr>\n",
       "    <tr>\n",
       "      <th>4715</th>\n",
       "      <td>Zimbabwe</td>\n",
       "      <td>2013</td>\n",
       "      <td>Zimbabwe-2013</td>\n",
       "      <td>28.361200</td>\n",
       "      <td>18.6</td>\n",
       "      <td>11.560855</td>\n",
       "      <td>56.897</td>\n",
       "      <td>35.768</td>\n",
       "      <td>101.674934</td>\n",
       "      <td>10.115</td>\n",
       "      <td>1429.998461</td>\n",
       "      <td>7.110148</td>\n",
       "      <td>1167.133941</td>\n",
       "      <td>13350378.0</td>\n",
       "      <td>5.38</td>\n",
       "    </tr>\n",
       "    <tr>\n",
       "      <th>4716</th>\n",
       "      <td>Zimbabwe</td>\n",
       "      <td>2014</td>\n",
       "      <td>Zimbabwe-2014</td>\n",
       "      <td>27.605547</td>\n",
       "      <td>18.2</td>\n",
       "      <td>11.574543</td>\n",
       "      <td>58.410</td>\n",
       "      <td>34.978</td>\n",
       "      <td>116.710533</td>\n",
       "      <td>9.277</td>\n",
       "      <td>1434.896277</td>\n",
       "      <td>8.133524</td>\n",
       "      <td>1164.262622</td>\n",
       "      <td>13586710.0</td>\n",
       "      <td>5.33</td>\n",
       "    </tr>\n",
       "    <tr>\n",
       "      <th>4717</th>\n",
       "      <td>Zimbabwe</td>\n",
       "      <td>2015</td>\n",
       "      <td>Zimbabwe-2015</td>\n",
       "      <td>27.197061</td>\n",
       "      <td>18.0</td>\n",
       "      <td>11.588537</td>\n",
       "      <td>59.534</td>\n",
       "      <td>33.981</td>\n",
       "      <td>107.687004</td>\n",
       "      <td>8.673</td>\n",
       "      <td>1445.069702</td>\n",
       "      <td>7.452066</td>\n",
       "      <td>1180.490702</td>\n",
       "      <td>13814642.0</td>\n",
       "      <td>5.29</td>\n",
       "    </tr>\n",
       "    <tr>\n",
       "      <th>4718</th>\n",
       "      <td>Zimbabwe</td>\n",
       "      <td>2016</td>\n",
       "      <td>Zimbabwe-2016</td>\n",
       "      <td>26.839591</td>\n",
       "      <td>16.8</td>\n",
       "      <td>11.606887</td>\n",
       "      <td>60.294</td>\n",
       "      <td>32.864</td>\n",
       "      <td>113.408859</td>\n",
       "      <td>8.286</td>\n",
       "      <td>1464.588957</td>\n",
       "      <td>7.647620</td>\n",
       "      <td>1208.587656</td>\n",
       "      <td>14030338.0</td>\n",
       "      <td>5.24</td>\n",
       "    </tr>\n",
       "    <tr>\n",
       "      <th>4719</th>\n",
       "      <td>Zimbabwe</td>\n",
       "      <td>2017</td>\n",
       "      <td>Zimbabwe-2017</td>\n",
       "      <td>26.391769</td>\n",
       "      <td>15.0</td>\n",
       "      <td>11.620367</td>\n",
       "      <td>60.812</td>\n",
       "      <td>31.732</td>\n",
       "      <td>112.741936</td>\n",
       "      <td>8.044</td>\n",
       "      <td>1335.665064</td>\n",
       "      <td>5.849775</td>\n",
       "      <td>1268.187512</td>\n",
       "      <td>14236599.0</td>\n",
       "      <td>5.15</td>\n",
       "    </tr>\n",
       "  </tbody>\n",
       "</table>\n",
       "<p>4720 rows × 15 columns</p>\n",
       "</div>"
      ],
      "text/plain": [
       "          country  year      country_code  suicide_rate_owid  suicide_rate  \\\n",
       "0     Afghanistan  1990  Afghanistan-1990          10.318504           NaN   \n",
       "1     Afghanistan  1991  Afghanistan-1991          10.327010           NaN   \n",
       "2     Afghanistan  1992  Afghanistan-1992          10.271411           NaN   \n",
       "3     Afghanistan  1993  Afghanistan-1993          10.376123           NaN   \n",
       "4     Afghanistan  1994  Afghanistan-1994          10.575915           NaN   \n",
       "...           ...   ...               ...                ...           ...   \n",
       "4715     Zimbabwe  2013     Zimbabwe-2013          28.361200          18.6   \n",
       "4716     Zimbabwe  2014     Zimbabwe-2014          27.605547          18.2   \n",
       "4717     Zimbabwe  2015     Zimbabwe-2015          27.197061          18.0   \n",
       "4718     Zimbabwe  2016     Zimbabwe-2016          26.839591          16.8   \n",
       "4719     Zimbabwe  2017     Zimbabwe-2017          26.391769          15.0   \n",
       "\n",
       "      mental_substance_disorders  life_expectancy  birth_rate      health  \\\n",
       "0                      17.553463           50.331      48.880         NaN   \n",
       "1                      17.837032           50.999      48.763         NaN   \n",
       "2                      18.092542           51.641      48.709         NaN   \n",
       "3                      18.294931           52.256      48.717         NaN   \n",
       "4                      18.428908           52.842      48.770         NaN   \n",
       "...                          ...              ...         ...         ...   \n",
       "4715                   11.560855           56.897      35.768  101.674934   \n",
       "4716                   11.574543           58.410      34.978  116.710533   \n",
       "4717                   11.588537           59.534      33.981  107.687004   \n",
       "4718                   11.606887           60.294      32.864  113.408859   \n",
       "4719                   11.620367           60.812      31.732  112.741936   \n",
       "\n",
       "      death_rate          gdp  health_pct       income  population  \\\n",
       "0         15.241          NaN         NaN          NaN  12412311.0   \n",
       "1         14.783          NaN         NaN          NaN  13299016.0   \n",
       "2         14.362          NaN         NaN          NaN  14485543.0   \n",
       "3         13.974          NaN         NaN          NaN  15816601.0   \n",
       "4         13.616          NaN         NaN          NaN  17075728.0   \n",
       "...          ...          ...         ...          ...         ...   \n",
       "4715      10.115  1429.998461    7.110148  1167.133941  13350378.0   \n",
       "4716       9.277  1434.896277    8.133524  1164.262622  13586710.0   \n",
       "4717       8.673  1445.069702    7.452066  1180.490702  13814642.0   \n",
       "4718       8.286  1464.588957    7.647620  1208.587656  14030338.0   \n",
       "4719       8.044  1335.665064    5.849775  1268.187512  14236599.0   \n",
       "\n",
       "      unemployment  \n",
       "0              NaN  \n",
       "1            11.38  \n",
       "2            11.46  \n",
       "3            11.61  \n",
       "4            11.65  \n",
       "...            ...  \n",
       "4715          5.38  \n",
       "4716          5.33  \n",
       "4717          5.29  \n",
       "4718          5.24  \n",
       "4719          5.15  \n",
       "\n",
       "[4720 rows x 15 columns]"
      ]
     },
     "execution_count": 27,
     "metadata": {},
     "output_type": "execute_result"
    }
   ],
   "source": [
    "db_complete"
   ]
  },
  {
   "cell_type": "code",
   "execution_count": 28,
   "metadata": {},
   "outputs": [],
   "source": [
    "db_complete.to_csv(\"clean/extract_owid_and_wb.csv\", index=False)"
   ]
  },
  {
   "cell_type": "markdown",
   "metadata": {},
   "source": [
    "## Indicating names as the ONU "
   ]
  },
  {
   "cell_type": "code",
   "execution_count": null,
   "metadata": {},
   "outputs": [],
   "source": [
    "# Set CSV input file path\n",
    "countries_all = os.path.join('clean/extract_countries_all.csv')\n",
    "# Read CSV to DataFrame\n",
    "countries_df = pd.read_csv(countries_all)"
   ]
  },
  {
   "cell_type": "code",
   "execution_count": null,
   "metadata": {},
   "outputs": [],
   "source": [
    "countries_df"
   ]
  },
  {
   "cell_type": "code",
   "execution_count": null,
   "metadata": {},
   "outputs": [],
   "source": [
    "countries_onu = countries_df[\"onu\"].dropna()"
   ]
  },
  {
   "cell_type": "code",
   "execution_count": null,
   "metadata": {},
   "outputs": [],
   "source": [
    "countries_onu.nunique()"
   ]
  },
  {
   "cell_type": "code",
   "execution_count": null,
   "metadata": {},
   "outputs": [],
   "source": []
  }
 ],
 "metadata": {
  "kernelspec": {
   "display_name": "Python [conda env:PythonData1] *",
   "language": "python",
   "name": "conda-env-PythonData1-py"
  },
  "language_info": {
   "codemirror_mode": {
    "name": "ipython",
    "version": 3
   },
   "file_extension": ".py",
   "mimetype": "text/x-python",
   "name": "python",
   "nbconvert_exporter": "python",
   "pygments_lexer": "ipython3",
   "version": "3.6.10"
  }
 },
 "nbformat": 4,
 "nbformat_minor": 4
}
